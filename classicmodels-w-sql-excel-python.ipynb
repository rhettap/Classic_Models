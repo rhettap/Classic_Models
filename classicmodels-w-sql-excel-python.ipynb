{
 "cells": [
  {
   "cell_type": "markdown",
   "id": "d04a1dfe",
   "metadata": {
    "papermill": {
     "duration": 0.012433,
     "end_time": "2023-04-07T12:22:38.593862",
     "exception": false,
     "start_time": "2023-04-07T12:22:38.581429",
     "status": "completed"
    },
    "tags": []
   },
   "source": [
    "# Classicmodels Analysis \n",
    "For this project I wanted to get some more numerical data using a relational database with multiple tables. This will allow me to showcase some different analytical skills by using:\n",
    "* Joins and temp tables in SQL\n",
    "* Pivot tables and vlookups in Excel\n",
    "* More exploring with Pandas and Seaborn in Python\n",
    "\n",
    "I'll be using the **classicmodels database** which contains the default, practice dataset for MySQL. From the webpage:      \n",
    "\n",
    "*The classicmodels database is a retailer of scale models of classic cars database. It contains typical business data such as customers, products, sales orders, sales order line items, etc.*\n",
    "\n",
    "This database can be found here: https://www.mysqltutorial.org/mysql-sample-database.aspx\n",
    " "
   ]
  },
  {
   "cell_type": "markdown",
   "id": "8d1d5454",
   "metadata": {
    "papermill": {
     "duration": 0.012417,
     "end_time": "2023-04-07T12:22:38.617351",
     "exception": false,
     "start_time": "2023-04-07T12:22:38.604934",
     "status": "completed"
    },
    "tags": []
   },
   "source": [
    "# SQL \n",
    "\n",
    "I've decided to start with SQL, so I've imported the data into MySQL workbench.\n",
    "\n",
    "I've also downloaded the Sample Database's Diagram that shows the relationships between the tables. This way I can easily find the primary and foreign keys that I can use to connect two separate tables when performing joins. \n",
    "[![classicmodels-diagram.png](https://i.postimg.cc/nhz8w4r8/classicmodels-diagram.png)](https://postimg.cc/GHZS4svz)"
   ]
  },
  {
   "cell_type": "markdown",
   "id": "7baa6264",
   "metadata": {
    "papermill": {
     "duration": 0.010452,
     "end_time": "2023-04-07T12:22:38.638832",
     "exception": false,
     "start_time": "2023-04-07T12:22:38.628380",
     "status": "completed"
    },
    "tags": []
   },
   "source": [
    "#### 1. Lets first look at classicmodel's biggest customers. Across all orders, which clients have spent the most amount of money? \n",
    "\n",
    "[![Screenshot-2022-11-17-at-9-52-32-AM.png](https://i.postimg.cc/C1mkJnKK/Screenshot-2022-11-17-at-9-52-32-AM.png)](https://postimg.cc/TL5K3wg8)\n",
    "\n",
    "I've limited the results to the top 20, as the list is too long to capture in one picture. I also decided to do a left join so that I could see all of the customers and subsequently which customers haven't made any purchases.\n",
    "\n",
    "It appears that the Euro+ Shopping Channel and Mini Gifts distributors are some of our top profit driving customers. We should strive to maintain positive relations with them. \n",
    "\n",
    "(I removed the limit below to view the bottom of the list) \n",
    "\n",
    "[![Screenshot-2022-11-17-at-10-07-56-AM.png](https://i.postimg.cc/YCXC0Nj8/Screenshot-2022-11-17-at-10-07-56-AM.png)](https://postimg.cc/yDZHrZmS)\n",
    "\n",
    "Perhaps we could reach out to these null value customers (no orders) and see what hesitations they may have with purchasing our products. We might could help to alleviate some of their concerns and build a stronger business relationship. "
   ]
  },
  {
   "cell_type": "markdown",
   "id": "baed33d6",
   "metadata": {
    "papermill": {
     "duration": 0.010536,
     "end_time": "2023-04-07T12:22:38.660217",
     "exception": false,
     "start_time": "2023-04-07T12:22:38.649681",
     "status": "completed"
    },
    "tags": []
   },
   "source": [
    "#### 2. What are the names of the products that were purchased the most by classicmodel's customers by customer?\n",
    "\n",
    "Since there is no key connecting the customer and product tables, I will create a bridge between the two tables in order to get the information.\n",
    "\n",
    "[![Screenshot-2022-11-17-at-10-38-37-AM.png](https://i.postimg.cc/HWr2WHs7/Screenshot-2022-11-17-at-10-38-37-AM.png)](https://postimg.cc/XX0FxR5V)\n",
    "\n",
    "\n",
    "Euro+ Shopping Channel seems to really like our '1992 Ferrari 360 Spider red' model. Let's make sure we have plenty of those availble in stock.\n"
   ]
  },
  {
   "cell_type": "markdown",
   "id": "8354826c",
   "metadata": {
    "papermill": {
     "duration": 0.010442,
     "end_time": "2023-04-07T12:22:38.681448",
     "exception": false,
     "start_time": "2023-04-07T12:22:38.671006",
     "status": "completed"
    },
    "tags": []
   },
   "source": [
    "#### 3. Next lets try gathering the average amount of payments collected from sales by each employee. \n",
    " Here,we will also return the job title to see if it aligns with the data\n",
    " \n",
    " --\n",
    " \n",
    " [![Screenshot-2022-11-17-at-1-04-09-PM.png](https://i.postimg.cc/HnwGW0js/Screenshot-2022-11-17-at-1-04-09-PM.png)](https://postimg.cc/N2jCpH1W)\n",
    " \n",
    " No surprises here that all of the sales are from sales reps. It looks like we should consider giving Leslie Jennings a raise as she generates us the most profit on average. Tom King and Yoshimi Kato must either be new employees or having some trouble in the sales department. If they aren't new, perhaps we can talk to them and see what's going on. "
   ]
  },
  {
   "cell_type": "markdown",
   "id": "5196d731",
   "metadata": {
    "papermill": {
     "duration": 0.010415,
     "end_time": "2023-04-07T12:22:38.702655",
     "exception": false,
     "start_time": "2023-04-07T12:22:38.692240",
     "status": "completed"
    },
    "tags": []
   },
   "source": [
    "#### 4. What is the customer name for the first payment we receive each month? \n",
    "\n",
    "First I created a table gathering the first payment of each month (min) from the payments table.\n",
    "\n",
    "[![Screenshot-2022-11-18-at-1-54-08-PM.png](https://i.postimg.cc/6qDj7pq5/Screenshot-2022-11-18-at-1-54-08-PM.png)](https://postimg.cc/9wYtKVyv)\n",
    "\n",
    "I decided to make this into a temporary table and do a self join back on payments with just the data from the first payment of each month. I then did another join to the customers table to get the name of the customer for these first monthly payments. \n",
    "\n",
    "[![Screenshot-2022-11-18-at-2-05-17-PM.png](https://i.postimg.cc/FRbCf4cj/Screenshot-2022-11-18-at-2-05-17-PM.png)](https://postimg.cc/cgHBjPFH)\n",
    "\n",
    "This returned a list of the customerNames, the month, and the first payment date each month. "
   ]
  },
  {
   "cell_type": "markdown",
   "id": "4cc66a67",
   "metadata": {
    "papermill": {
     "duration": 0.010701,
     "end_time": "2023-04-07T12:22:38.724211",
     "exception": false,
     "start_time": "2023-04-07T12:22:38.713510",
     "status": "completed"
    },
    "tags": []
   },
   "source": [
    "#### This concludes my SQL analysis of this dataset. I don't want this notebook to get too long, so I'm going to move forward with Excel and Python."
   ]
  },
  {
   "cell_type": "markdown",
   "id": "89addc2b",
   "metadata": {
    "papermill": {
     "duration": 0.01051,
     "end_time": "2023-04-07T12:22:38.745577",
     "exception": false,
     "start_time": "2023-04-07T12:22:38.735067",
     "status": "completed"
    },
    "tags": []
   },
   "source": [
    "# Excel\n",
    "\n",
    "So I've saved all of the tables in my SQL database as separate csv files and then imported them into Excel under separate sheets.\n",
    "\n",
    "[![Screenshot-2022-11-17-at-3-04-22-PM.png](https://i.postimg.cc/g0FPWGVm/Screenshot-2022-11-17-at-3-04-22-PM.png)](https://postimg.cc/ZWcQPtsM)"
   ]
  },
  {
   "cell_type": "markdown",
   "id": "9ae91f71",
   "metadata": {
    "papermill": {
     "duration": 0.010495,
     "end_time": "2023-04-07T12:22:38.766913",
     "exception": false,
     "start_time": "2023-04-07T12:22:38.756418",
     "status": "completed"
    },
    "tags": []
   },
   "source": [
    "I'm going to start by cleaning up and formatting the data/column headers into a more readable fashion. \n",
    "I went through and formatted the data as tables, then I did a little work on the headers. I had a few errors on the products page under the description column. It seems parts of the description were listing items separated by commas. This didn't work too well with my comma delimiting import. So I had to adjust some rows and move things over. If the data had commonality among column headers and data, then I would simply have set up a Macro to automate the process. But for now I have the data formatted and cleaned. \n",
    "\n",
    "[![Screenshot-2022-11-17-at-4-36-35-PM.png](https://i.postimg.cc/X7kHsFLf/Screenshot-2022-11-17-at-4-36-35-PM.png)](https://postimg.cc/6yTf38Dq)\n",
    "\n"
   ]
  },
  {
   "cell_type": "markdown",
   "id": "af59d42f",
   "metadata": {
    "papermill": {
     "duration": 0.010554,
     "end_time": "2023-04-07T12:22:38.788314",
     "exception": false,
     "start_time": "2023-04-07T12:22:38.777760",
     "status": "completed"
    },
    "tags": []
   },
   "source": [
    "#### VLookup Scenarios: \n",
    "\n",
    "I have an entire sheet of customer information, but the team leader only needs certain information about certain customers in this sheet. \n",
    "\n",
    "[![Screenshot-2022-11-18-at-8-06-28-AM.png](https://i.postimg.cc/R0cw3HvD/Screenshot-2022-11-18-at-8-06-28-AM.png)](https://postimg.cc/p9Lm4yhf)\n",
    "\n",
    "The customers sheet has 123 observances (rows), so instead of looking through all of these rows to find the numbers,the specific data points associated with the numbers, and then manually fill in these values, I'm just going to use VLookup instead. \n",
    "\n"
   ]
  },
  {
   "cell_type": "markdown",
   "id": "82e3f0d8",
   "metadata": {
    "papermill": {
     "duration": 0.010734,
     "end_time": "2023-04-07T12:22:38.809887",
     "exception": false,
     "start_time": "2023-04-07T12:22:38.799153",
     "status": "completed"
    },
    "tags": []
   },
   "source": [
    "\n",
    "I've created a new sheet to perform the VLookup() function and show the id's that the team leader requires. I'll start by writing the formula to get customer last names. \n",
    "[![Screenshot-2022-11-18-at-9-00-14-AM.png](https://i.postimg.cc/P5DZCRH4/Screenshot-2022-11-18-at-9-00-14-AM.png)](https://postimg.cc/4YJnMwm7)"
   ]
  },
  {
   "cell_type": "markdown",
   "id": "aa90b07a",
   "metadata": {
    "papermill": {
     "duration": 0.010639,
     "end_time": "2023-04-07T12:22:38.831441",
     "exception": false,
     "start_time": "2023-04-07T12:22:38.820802",
     "status": "completed"
    },
    "tags": []
   },
   "source": [
    "I'll then use autofill to fill out the remaining values and then change the column_index_num to reference the corresponding columns for last name, city, and state fill out the other values.\n",
    "\n",
    "[![Screenshot-2022-11-18-at-9-06-54-AM.png](https://i.postimg.cc/3xpTzgjN/Screenshot-2022-11-18-at-9-06-54-AM.png)](https://postimg.cc/K1ZwM3Hh)\n",
    "\n",
    "--\n",
    "\n",
    "[![Screenshot-2022-11-18-at-9-08-59-AM.png](https://i.postimg.cc/RZrr1WrB/Screenshot-2022-11-18-at-9-08-59-AM.png)](https://postimg.cc/PPMFTrr3)\n",
    "\n",
    "Since most of these customers are international, they don't have corresponding state values "
   ]
  },
  {
   "cell_type": "markdown",
   "id": "4450bce8",
   "metadata": {
    "papermill": {
     "duration": 0.010554,
     "end_time": "2023-04-07T12:22:38.852895",
     "exception": false,
     "start_time": "2023-04-07T12:22:38.842341",
     "status": "completed"
    },
    "tags": []
   },
   "source": [
    "Another hypothetical situation where the team leader wants to easily be able to view stock counts for corresponding product names without having to sift through the entire worksheet. \n",
    "\n",
    "[![Screenshot-2022-11-18-at-9-36-45-AM.png](https://i.postimg.cc/fTt8MsHq/Screenshot-2022-11-18-at-9-36-45-AM.png)](https://postimg.cc/7f43NFrS)"
   ]
  },
  {
   "cell_type": "markdown",
   "id": "0907758d",
   "metadata": {
    "papermill": {
     "duration": 0.010594,
     "end_time": "2023-04-07T12:22:38.874424",
     "exception": false,
     "start_time": "2023-04-07T12:22:38.863830",
     "status": "completed"
    },
    "tags": []
   },
   "source": [
    "This time I had to start the table array at the 2nd column (productName) so that the lookup value could match accordingly to the first specified column. \n",
    "[![Screenshot-2022-11-18-at-9-35-06-AM.png](https://i.postimg.cc/TY03Y8pm/Screenshot-2022-11-18-at-9-35-06-AM.png)](https://postimg.cc/1fgQJj05)\n",
    "\n",
    "[![Screenshot-2022-11-18-at-9-26-01-AM.png](https://i.postimg.cc/0QRmvgBm/Screenshot-2022-11-18-at-9-26-01-AM.png)](https://postimg.cc/WD8tmyjb)"
   ]
  },
  {
   "cell_type": "markdown",
   "id": "edcf4720",
   "metadata": {
    "papermill": {
     "duration": 0.010544,
     "end_time": "2023-04-07T12:22:38.895908",
     "exception": false,
     "start_time": "2023-04-07T12:22:38.885364",
     "status": "completed"
    },
    "tags": []
   },
   "source": [
    "Now my leader can simply type any product name and the corresponding stock quantity for that product will pop up immediately. \n",
    "\n",
    "[![Screenshot-2022-11-18-at-9-33-32-AM.png](https://i.postimg.cc/W3xJnBMt/Screenshot-2022-11-18-at-9-33-32-AM.png)](https://postimg.cc/7GM6PQty)\n",
    "\n",
    "[![Screenshot-2022-11-18-at-9-33-05-AM.png](https://i.postimg.cc/wTXsXb3T/Screenshot-2022-11-18-at-9-33-05-AM.png)](https://postimg.cc/SJKsqdWw)\n",
    "\n",
    "These are some small scale examples of using VLOOKUPS within Excel. When a sheet contains thousands of observances, the beneficial aspects of VLookups become much more observable. Next lets look do some pivot table analysis. "
   ]
  },
  {
   "cell_type": "markdown",
   "id": "225ad1d3",
   "metadata": {
    "papermill": {
     "duration": 0.010657,
     "end_time": "2023-04-07T12:22:38.917609",
     "exception": false,
     "start_time": "2023-04-07T12:22:38.906952",
     "status": "completed"
    },
    "tags": []
   },
   "source": [
    "#### Pivot Tables\n",
    "\n",
    "So now lets get some quick summary data about our products using pivot tables. \n",
    "\n",
    "The team leader is still curious about our stock. They want to know the stock of each of our different product lines (cars, ships, trains, etc.) \n",
    "\n",
    "I've created a Pivot table to summarize this data in a tabular format. The rows dictate our various product lines offered and the values are the count of items in each particular product line. Also, there's a drill down into specific vendors shown here, which we'll address next.\n",
    "\n",
    "[![Screenshot-2022-11-18-at-10-47-43-AM.png](https://i.postimg.cc/y653MQfs/Screenshot-2022-11-18-at-10-47-43-AM.png)](https://postimg.cc/Sj6K8rFv)"
   ]
  },
  {
   "cell_type": "markdown",
   "id": "1115679f",
   "metadata": {
    "papermill": {
     "duration": 0.010671,
     "end_time": "2023-04-07T12:22:38.939261",
     "exception": false,
     "start_time": "2023-04-07T12:22:38.928590",
     "status": "completed"
    },
    "tags": []
   },
   "source": [
    "The team leader asks if there is any way we can visualize this data and filter the information based off vendor from where we obtained items in a product line. I've created two different types of graphs (hbar and pie) to show a visual representation of the data. I've also introduced a slicer that filters the products based on selected vendor. The default selection is all vendors. \n",
    "\n",
    "[![Screenshot-2022-11-18-at-10-51-07-AM.png](https://i.postimg.cc/nL86NJmB/Screenshot-2022-11-18-at-10-51-07-AM.png)](https://postimg.cc/21wcBg2S)"
   ]
  },
  {
   "cell_type": "markdown",
   "id": "b6f1d655",
   "metadata": {
    "papermill": {
     "duration": 0.010561,
     "end_time": "2023-04-07T12:22:38.960841",
     "exception": false,
     "start_time": "2023-04-07T12:22:38.950280",
     "status": "completed"
    },
    "tags": []
   },
   "source": [
    "The team leader wants to know the number of vintage cars vs classic cars supplied by \"Red Start Diecast\". Let's go ahead and filter this graph to reflect stock of products only from this vendor. \n",
    "\n",
    "[![Screenshot-2022-11-18-at-10-58-19-AM.png](https://i.postimg.cc/NfDnpXGh/Screenshot-2022-11-18-at-10-58-19-AM.png)](https://postimg.cc/pp9kdpnk)\n",
    "\n",
    "It looks like we have in stock 8,164 classic cars and 8,073 vintage cars from Red Start Diecast."
   ]
  },
  {
   "cell_type": "markdown",
   "id": "e7c65b58",
   "metadata": {
    "papermill": {
     "duration": 0.0106,
     "end_time": "2023-04-07T12:22:38.982400",
     "exception": false,
     "start_time": "2023-04-07T12:22:38.971800",
     "status": "completed"
    },
    "tags": []
   },
   "source": [
    " Finally, the team leader wants to know from which vendors do we order trains and how many do we have in stock from each of those vendors. Here I created another filter to filter by trains and kept all vendors selected. I also moved the vendors to the x axis and product line to the y axis.\n",
    " \n",
    " [![Screenshot-2022-11-18-at-11-09-55-AM.png](https://i.postimg.cc/T1pzZqRH/Screenshot-2022-11-18-at-11-09-55-AM.png)](https://postimg.cc/MfJ3BBfy)\n",
    " \n",
    " It looks like we only have 3 vendors for trains and our stock count is highest for the GearBox Collectibles's trains.\n",
    " \n",
    " "
   ]
  },
  {
   "cell_type": "markdown",
   "id": "023dc623",
   "metadata": {
    "papermill": {
     "duration": 0.01081,
     "end_time": "2023-04-07T12:22:39.004107",
     "exception": false,
     "start_time": "2023-04-07T12:22:38.993297",
     "status": "completed"
    },
    "tags": []
   },
   "source": [
    "Once again, in the interest of not making this notebook too long, I'm going to conclude my Excel analysis here and move on to some Python graphing with Seaborn. "
   ]
  },
  {
   "cell_type": "markdown",
   "id": "7f85168f",
   "metadata": {
    "papermill": {
     "duration": 0.010593,
     "end_time": "2023-04-07T12:22:39.025658",
     "exception": false,
     "start_time": "2023-04-07T12:22:39.015065",
     "status": "completed"
    },
    "tags": []
   },
   "source": [
    "# Python"
   ]
  },
  {
   "cell_type": "code",
   "execution_count": 1,
   "id": "2373712b",
   "metadata": {
    "execution": {
     "iopub.execute_input": "2023-04-07T12:22:39.050102Z",
     "iopub.status.busy": "2023-04-07T12:22:39.049420Z",
     "iopub.status.idle": "2023-04-07T12:22:40.163343Z",
     "shell.execute_reply": "2023-04-07T12:22:40.162139Z"
    },
    "papermill": {
     "duration": 1.12961,
     "end_time": "2023-04-07T12:22:40.166303",
     "exception": false,
     "start_time": "2023-04-07T12:22:39.036693",
     "status": "completed"
    },
    "tags": []
   },
   "outputs": [],
   "source": [
    "import pandas as pd\n",
    "import matplotlib.pyplot as plt \n",
    "import seaborn as sns\n",
    "import numpy as np"
   ]
  },
  {
   "cell_type": "markdown",
   "id": "0a6135e9",
   "metadata": {
    "papermill": {
     "duration": 0.011134,
     "end_time": "2023-04-07T12:22:40.188649",
     "exception": false,
     "start_time": "2023-04-07T12:22:40.177515",
     "status": "completed"
    },
    "tags": []
   },
   "source": [
    "I've imported pandas and the visualization libraries (above) and imported all of the csv files into a new dataset in Kaggle. \n",
    "\n",
    "--\n",
    "\n",
    "Pulling the files in via Pandas below:"
   ]
  },
  {
   "cell_type": "code",
   "execution_count": 2,
   "id": "6c2f6856",
   "metadata": {
    "execution": {
     "iopub.execute_input": "2023-04-07T12:22:40.212611Z",
     "iopub.status.busy": "2023-04-07T12:22:40.212185Z",
     "iopub.status.idle": "2023-04-07T12:22:40.284847Z",
     "shell.execute_reply": "2023-04-07T12:22:40.283805Z"
    },
    "papermill": {
     "duration": 0.088149,
     "end_time": "2023-04-07T12:22:40.287877",
     "exception": false,
     "start_time": "2023-04-07T12:22:40.199728",
     "status": "completed"
    },
    "tags": []
   },
   "outputs": [
    {
     "name": "stderr",
     "output_type": "stream",
     "text": [
      "/opt/conda/lib/python3.7/site-packages/IPython/core/interactiveshell.py:3552: FutureWarning: The error_bad_lines argument has been deprecated and will be removed in a future version.\n",
      "\n",
      "\n",
      "  exec(code_obj, self.user_global_ns, self.user_ns)\n",
      "b'Skipping line 12: expected 9 fields, saw 11\\nSkipping line 16: expected 9 fields, saw 10\\nSkipping line 58: expected 9 fields, saw 10\\nSkipping line 103: expected 9 fields, saw 14\\n'\n"
     ]
    }
   ],
   "source": [
    "customers = pd.read_csv(\"../input/classicmodels-csv-files/customers.csv\")\n",
    "employees = pd.read_csv(\"../input/classicmodels-csv-files/employees.csv\")\n",
    "offices = pd.read_csv(\"../input/classicmodels-csv-files/offices.csv\")\n",
    "orderdetails = pd.read_csv(\"../input/classicmodels-csv-files/orderdetails.csv\")\n",
    "orders = pd.read_csv(\"../input/classicmodels-csv-files/orders.csv\")\n",
    "payments = pd.read_csv(\"../input/classicmodels-csv-files/payments.csv\")\n",
    "productlines = pd.read_csv(\"../input/classicmodels-csv-files/productlines.csv\")\n",
    "products = pd.read_csv(\"../input/classicmodels-csv-files/products.csv\" , error_bad_lines = False)\n",
    "\n",
    "#Having a little trouble with the last file (products).\n",
    "##It's the same issue where I have a comma delimeter and the product description\n",
    "###has comma values which is confusing the import. I think I found a work \n",
    "#### around, but there might be an error message under this tab. "
   ]
  },
  {
   "cell_type": "code",
   "execution_count": 3,
   "id": "4036a47a",
   "metadata": {
    "execution": {
     "iopub.execute_input": "2023-04-07T12:22:40.312951Z",
     "iopub.status.busy": "2023-04-07T12:22:40.312211Z",
     "iopub.status.idle": "2023-04-07T12:22:40.340133Z",
     "shell.execute_reply": "2023-04-07T12:22:40.338907Z"
    },
    "papermill": {
     "duration": 0.043177,
     "end_time": "2023-04-07T12:22:40.342684",
     "exception": false,
     "start_time": "2023-04-07T12:22:40.299507",
     "status": "completed"
    },
    "tags": []
   },
   "outputs": [
    {
     "data": {
      "text/html": [
       "<div>\n",
       "<style scoped>\n",
       "    .dataframe tbody tr th:only-of-type {\n",
       "        vertical-align: middle;\n",
       "    }\n",
       "\n",
       "    .dataframe tbody tr th {\n",
       "        vertical-align: top;\n",
       "    }\n",
       "\n",
       "    .dataframe thead th {\n",
       "        text-align: right;\n",
       "    }\n",
       "</style>\n",
       "<table border=\"1\" class=\"dataframe\">\n",
       "  <thead>\n",
       "    <tr style=\"text-align: right;\">\n",
       "      <th></th>\n",
       "      <th>productCode</th>\n",
       "      <th>productName</th>\n",
       "      <th>productLine</th>\n",
       "      <th>productScale</th>\n",
       "      <th>productVendor</th>\n",
       "      <th>productDescription</th>\n",
       "      <th>quantityInStock</th>\n",
       "      <th>buyPrice</th>\n",
       "      <th>MSRP</th>\n",
       "    </tr>\n",
       "  </thead>\n",
       "  <tbody>\n",
       "    <tr>\n",
       "      <th>0</th>\n",
       "      <td>S10_1678</td>\n",
       "      <td>1969 Harley Davidson Ultimate Chopper</td>\n",
       "      <td>Motorcycles</td>\n",
       "      <td>1:10</td>\n",
       "      <td>Min Lin Diecast</td>\n",
       "      <td>This replica features working kickstand, front...</td>\n",
       "      <td>7933</td>\n",
       "      <td>48.81</td>\n",
       "      <td>95.70</td>\n",
       "    </tr>\n",
       "    <tr>\n",
       "      <th>1</th>\n",
       "      <td>S10_1949</td>\n",
       "      <td>1952 Alpine Renault 1300</td>\n",
       "      <td>Classic Cars</td>\n",
       "      <td>1:10</td>\n",
       "      <td>Classic Metal Creations</td>\n",
       "      <td>Turnable front wheels; steering function; deta...</td>\n",
       "      <td>7305</td>\n",
       "      <td>98.58</td>\n",
       "      <td>214.30</td>\n",
       "    </tr>\n",
       "    <tr>\n",
       "      <th>2</th>\n",
       "      <td>S10_2016</td>\n",
       "      <td>1996 Moto Guzzi 1100i</td>\n",
       "      <td>Motorcycles</td>\n",
       "      <td>1:10</td>\n",
       "      <td>Highway 66 Mini Classics</td>\n",
       "      <td>Official Moto Guzzi logos and insignias, saddl...</td>\n",
       "      <td>6625</td>\n",
       "      <td>68.99</td>\n",
       "      <td>118.94</td>\n",
       "    </tr>\n",
       "    <tr>\n",
       "      <th>3</th>\n",
       "      <td>S10_4698</td>\n",
       "      <td>2003 Harley-Davidson Eagle Drag Bike</td>\n",
       "      <td>Motorcycles</td>\n",
       "      <td>1:10</td>\n",
       "      <td>Red Start Diecast</td>\n",
       "      <td>Model features, official Harley Davidson logos...</td>\n",
       "      <td>5582</td>\n",
       "      <td>91.02</td>\n",
       "      <td>193.66</td>\n",
       "    </tr>\n",
       "    <tr>\n",
       "      <th>4</th>\n",
       "      <td>S10_4757</td>\n",
       "      <td>1972 Alfa Romeo GTA</td>\n",
       "      <td>Classic Cars</td>\n",
       "      <td>1:10</td>\n",
       "      <td>Motor City Art Classics</td>\n",
       "      <td>Features include: Turnable front wheels; steer...</td>\n",
       "      <td>3252</td>\n",
       "      <td>85.68</td>\n",
       "      <td>136.00</td>\n",
       "    </tr>\n",
       "    <tr>\n",
       "      <th>...</th>\n",
       "      <td>...</td>\n",
       "      <td>...</td>\n",
       "      <td>...</td>\n",
       "      <td>...</td>\n",
       "      <td>...</td>\n",
       "      <td>...</td>\n",
       "      <td>...</td>\n",
       "      <td>...</td>\n",
       "      <td>...</td>\n",
       "    </tr>\n",
       "    <tr>\n",
       "      <th>101</th>\n",
       "      <td>S700_3505</td>\n",
       "      <td>The Titanic</td>\n",
       "      <td>Ships</td>\n",
       "      <td>1:700</td>\n",
       "      <td>Carousel DieCast Legends</td>\n",
       "      <td>Completed model measures 19 1/2 inches long, 9...</td>\n",
       "      <td>1956</td>\n",
       "      <td>51.09</td>\n",
       "      <td>100.17</td>\n",
       "    </tr>\n",
       "    <tr>\n",
       "      <th>102</th>\n",
       "      <td>S700_3962</td>\n",
       "      <td>The Queen Mary</td>\n",
       "      <td>Ships</td>\n",
       "      <td>1:700</td>\n",
       "      <td>Welly Diecast Productions</td>\n",
       "      <td>Exact replica. Wood and Metal. Many extras inc...</td>\n",
       "      <td>5088</td>\n",
       "      <td>53.63</td>\n",
       "      <td>99.31</td>\n",
       "    </tr>\n",
       "    <tr>\n",
       "      <th>103</th>\n",
       "      <td>S700_4002</td>\n",
       "      <td>American Airlines: MD-11S</td>\n",
       "      <td>Planes</td>\n",
       "      <td>1:700</td>\n",
       "      <td>Second Gear Diecast</td>\n",
       "      <td>Polished finish. Exact replia with official lo...</td>\n",
       "      <td>8820</td>\n",
       "      <td>36.27</td>\n",
       "      <td>74.03</td>\n",
       "    </tr>\n",
       "    <tr>\n",
       "      <th>104</th>\n",
       "      <td>S72_1253</td>\n",
       "      <td>Boeing X-32A JSF</td>\n",
       "      <td>Planes</td>\n",
       "      <td>1:72</td>\n",
       "      <td>Motor City Art Classics</td>\n",
       "      <td>10 Wingspan with retractable landing gears.Com...</td>\n",
       "      <td>4857</td>\n",
       "      <td>32.77</td>\n",
       "      <td>49.66</td>\n",
       "    </tr>\n",
       "    <tr>\n",
       "      <th>105</th>\n",
       "      <td>S72_3212</td>\n",
       "      <td>Pont Yacht</td>\n",
       "      <td>Ships</td>\n",
       "      <td>1:72</td>\n",
       "      <td>Unimax Art Galleries</td>\n",
       "      <td>Measures 38 inches Long x 33 3/4 inches High. ...</td>\n",
       "      <td>414</td>\n",
       "      <td>33.30</td>\n",
       "      <td>54.60</td>\n",
       "    </tr>\n",
       "  </tbody>\n",
       "</table>\n",
       "<p>106 rows × 9 columns</p>\n",
       "</div>"
      ],
      "text/plain": [
       "    productCode                            productName   productLine  \\\n",
       "0      S10_1678  1969 Harley Davidson Ultimate Chopper   Motorcycles   \n",
       "1      S10_1949               1952 Alpine Renault 1300  Classic Cars   \n",
       "2      S10_2016                  1996 Moto Guzzi 1100i   Motorcycles   \n",
       "3      S10_4698   2003 Harley-Davidson Eagle Drag Bike   Motorcycles   \n",
       "4      S10_4757                    1972 Alfa Romeo GTA  Classic Cars   \n",
       "..          ...                                    ...           ...   \n",
       "101   S700_3505                            The Titanic         Ships   \n",
       "102   S700_3962                         The Queen Mary         Ships   \n",
       "103   S700_4002              American Airlines: MD-11S        Planes   \n",
       "104    S72_1253                       Boeing X-32A JSF        Planes   \n",
       "105    S72_3212                             Pont Yacht         Ships   \n",
       "\n",
       "    productScale              productVendor  \\\n",
       "0           1:10            Min Lin Diecast   \n",
       "1           1:10    Classic Metal Creations   \n",
       "2           1:10   Highway 66 Mini Classics   \n",
       "3           1:10          Red Start Diecast   \n",
       "4           1:10    Motor City Art Classics   \n",
       "..           ...                        ...   \n",
       "101        1:700   Carousel DieCast Legends   \n",
       "102        1:700  Welly Diecast Productions   \n",
       "103        1:700        Second Gear Diecast   \n",
       "104         1:72    Motor City Art Classics   \n",
       "105         1:72       Unimax Art Galleries   \n",
       "\n",
       "                                    productDescription  quantityInStock  \\\n",
       "0    This replica features working kickstand, front...             7933   \n",
       "1    Turnable front wheels; steering function; deta...             7305   \n",
       "2    Official Moto Guzzi logos and insignias, saddl...             6625   \n",
       "3    Model features, official Harley Davidson logos...             5582   \n",
       "4    Features include: Turnable front wheels; steer...             3252   \n",
       "..                                                 ...              ...   \n",
       "101  Completed model measures 19 1/2 inches long, 9...             1956   \n",
       "102  Exact replica. Wood and Metal. Many extras inc...             5088   \n",
       "103  Polished finish. Exact replia with official lo...             8820   \n",
       "104  10 Wingspan with retractable landing gears.Com...             4857   \n",
       "105  Measures 38 inches Long x 33 3/4 inches High. ...              414   \n",
       "\n",
       "     buyPrice    MSRP  \n",
       "0       48.81   95.70  \n",
       "1       98.58  214.30  \n",
       "2       68.99  118.94  \n",
       "3       91.02  193.66  \n",
       "4       85.68  136.00  \n",
       "..        ...     ...  \n",
       "101     51.09  100.17  \n",
       "102     53.63   99.31  \n",
       "103     36.27   74.03  \n",
       "104     32.77   49.66  \n",
       "105     33.30   54.60  \n",
       "\n",
       "[106 rows x 9 columns]"
      ]
     },
     "execution_count": 3,
     "metadata": {},
     "output_type": "execute_result"
    }
   ],
   "source": [
    "products\n",
    "#Just double checked and it looks like all is in order with the products table"
   ]
  },
  {
   "cell_type": "markdown",
   "id": "0df4b1d8",
   "metadata": {
    "papermill": {
     "duration": 0.011344,
     "end_time": "2023-04-07T12:22:40.365830",
     "exception": false,
     "start_time": "2023-04-07T12:22:40.354486",
     "status": "completed"
    },
    "tags": []
   },
   "source": [
    "Starting with the products table, I noticed there is a column detailing buyPrice and one detailing suggested retail price (MSRP). First I'm going to create a new dynamic column that calculates the highest margin of profit by item using MSRP as a guideline. "
   ]
  },
  {
   "cell_type": "code",
   "execution_count": 4,
   "id": "fa6a77c0",
   "metadata": {
    "execution": {
     "iopub.execute_input": "2023-04-07T12:22:40.390799Z",
     "iopub.status.busy": "2023-04-07T12:22:40.390393Z",
     "iopub.status.idle": "2023-04-07T12:22:40.415066Z",
     "shell.execute_reply": "2023-04-07T12:22:40.413490Z"
    },
    "papermill": {
     "duration": 0.040135,
     "end_time": "2023-04-07T12:22:40.417703",
     "exception": false,
     "start_time": "2023-04-07T12:22:40.377568",
     "status": "completed"
    },
    "tags": []
   },
   "outputs": [
    {
     "name": "stdout",
     "output_type": "stream",
     "text": [
      "<class 'pandas.core.frame.DataFrame'>\n",
      "RangeIndex: 106 entries, 0 to 105\n",
      "Data columns (total 9 columns):\n",
      " #   Column              Non-Null Count  Dtype  \n",
      "---  ------              --------------  -----  \n",
      " 0   productCode         106 non-null    object \n",
      " 1   productName         106 non-null    object \n",
      " 2   productLine         106 non-null    object \n",
      " 3   productScale        106 non-null    object \n",
      " 4   productVendor       106 non-null    object \n",
      " 5   productDescription  106 non-null    object \n",
      " 6   quantityInStock     106 non-null    int64  \n",
      " 7   buyPrice            106 non-null    float64\n",
      " 8   MSRP                106 non-null    float64\n",
      "dtypes: float64(2), int64(1), object(6)\n",
      "memory usage: 7.6+ KB\n"
     ]
    }
   ],
   "source": [
    "#First lets make sure MRSP and buyPrice are both numeric columns so that the math will actually work\n",
    "\n",
    "products.info()\n",
    "\n",
    "# All floats, so it looks like we're in good shape.\n"
   ]
  },
  {
   "cell_type": "code",
   "execution_count": 5,
   "id": "cb13a289",
   "metadata": {
    "execution": {
     "iopub.execute_input": "2023-04-07T12:22:40.442838Z",
     "iopub.status.busy": "2023-04-07T12:22:40.442451Z",
     "iopub.status.idle": "2023-04-07T12:22:40.465955Z",
     "shell.execute_reply": "2023-04-07T12:22:40.464779Z"
    },
    "papermill": {
     "duration": 0.038789,
     "end_time": "2023-04-07T12:22:40.468186",
     "exception": false,
     "start_time": "2023-04-07T12:22:40.429397",
     "status": "completed"
    },
    "tags": []
   },
   "outputs": [
    {
     "data": {
      "text/html": [
       "<div>\n",
       "<style scoped>\n",
       "    .dataframe tbody tr th:only-of-type {\n",
       "        vertical-align: middle;\n",
       "    }\n",
       "\n",
       "    .dataframe tbody tr th {\n",
       "        vertical-align: top;\n",
       "    }\n",
       "\n",
       "    .dataframe thead th {\n",
       "        text-align: right;\n",
       "    }\n",
       "</style>\n",
       "<table border=\"1\" class=\"dataframe\">\n",
       "  <thead>\n",
       "    <tr style=\"text-align: right;\">\n",
       "      <th></th>\n",
       "      <th>productCode</th>\n",
       "      <th>productName</th>\n",
       "      <th>productLine</th>\n",
       "      <th>productScale</th>\n",
       "      <th>productVendor</th>\n",
       "      <th>productDescription</th>\n",
       "      <th>quantityInStock</th>\n",
       "      <th>buyPrice</th>\n",
       "      <th>MSRP</th>\n",
       "      <th>profit</th>\n",
       "    </tr>\n",
       "  </thead>\n",
       "  <tbody>\n",
       "    <tr>\n",
       "      <th>0</th>\n",
       "      <td>S10_1678</td>\n",
       "      <td>1969 Harley Davidson Ultimate Chopper</td>\n",
       "      <td>Motorcycles</td>\n",
       "      <td>1:10</td>\n",
       "      <td>Min Lin Diecast</td>\n",
       "      <td>This replica features working kickstand, front...</td>\n",
       "      <td>7933</td>\n",
       "      <td>48.81</td>\n",
       "      <td>95.70</td>\n",
       "      <td>46.89</td>\n",
       "    </tr>\n",
       "    <tr>\n",
       "      <th>1</th>\n",
       "      <td>S10_1949</td>\n",
       "      <td>1952 Alpine Renault 1300</td>\n",
       "      <td>Classic Cars</td>\n",
       "      <td>1:10</td>\n",
       "      <td>Classic Metal Creations</td>\n",
       "      <td>Turnable front wheels; steering function; deta...</td>\n",
       "      <td>7305</td>\n",
       "      <td>98.58</td>\n",
       "      <td>214.30</td>\n",
       "      <td>115.72</td>\n",
       "    </tr>\n",
       "    <tr>\n",
       "      <th>2</th>\n",
       "      <td>S10_2016</td>\n",
       "      <td>1996 Moto Guzzi 1100i</td>\n",
       "      <td>Motorcycles</td>\n",
       "      <td>1:10</td>\n",
       "      <td>Highway 66 Mini Classics</td>\n",
       "      <td>Official Moto Guzzi logos and insignias, saddl...</td>\n",
       "      <td>6625</td>\n",
       "      <td>68.99</td>\n",
       "      <td>118.94</td>\n",
       "      <td>49.95</td>\n",
       "    </tr>\n",
       "    <tr>\n",
       "      <th>3</th>\n",
       "      <td>S10_4698</td>\n",
       "      <td>2003 Harley-Davidson Eagle Drag Bike</td>\n",
       "      <td>Motorcycles</td>\n",
       "      <td>1:10</td>\n",
       "      <td>Red Start Diecast</td>\n",
       "      <td>Model features, official Harley Davidson logos...</td>\n",
       "      <td>5582</td>\n",
       "      <td>91.02</td>\n",
       "      <td>193.66</td>\n",
       "      <td>102.64</td>\n",
       "    </tr>\n",
       "    <tr>\n",
       "      <th>4</th>\n",
       "      <td>S10_4757</td>\n",
       "      <td>1972 Alfa Romeo GTA</td>\n",
       "      <td>Classic Cars</td>\n",
       "      <td>1:10</td>\n",
       "      <td>Motor City Art Classics</td>\n",
       "      <td>Features include: Turnable front wheels; steer...</td>\n",
       "      <td>3252</td>\n",
       "      <td>85.68</td>\n",
       "      <td>136.00</td>\n",
       "      <td>50.32</td>\n",
       "    </tr>\n",
       "    <tr>\n",
       "      <th>...</th>\n",
       "      <td>...</td>\n",
       "      <td>...</td>\n",
       "      <td>...</td>\n",
       "      <td>...</td>\n",
       "      <td>...</td>\n",
       "      <td>...</td>\n",
       "      <td>...</td>\n",
       "      <td>...</td>\n",
       "      <td>...</td>\n",
       "      <td>...</td>\n",
       "    </tr>\n",
       "    <tr>\n",
       "      <th>101</th>\n",
       "      <td>S700_3505</td>\n",
       "      <td>The Titanic</td>\n",
       "      <td>Ships</td>\n",
       "      <td>1:700</td>\n",
       "      <td>Carousel DieCast Legends</td>\n",
       "      <td>Completed model measures 19 1/2 inches long, 9...</td>\n",
       "      <td>1956</td>\n",
       "      <td>51.09</td>\n",
       "      <td>100.17</td>\n",
       "      <td>49.08</td>\n",
       "    </tr>\n",
       "    <tr>\n",
       "      <th>102</th>\n",
       "      <td>S700_3962</td>\n",
       "      <td>The Queen Mary</td>\n",
       "      <td>Ships</td>\n",
       "      <td>1:700</td>\n",
       "      <td>Welly Diecast Productions</td>\n",
       "      <td>Exact replica. Wood and Metal. Many extras inc...</td>\n",
       "      <td>5088</td>\n",
       "      <td>53.63</td>\n",
       "      <td>99.31</td>\n",
       "      <td>45.68</td>\n",
       "    </tr>\n",
       "    <tr>\n",
       "      <th>103</th>\n",
       "      <td>S700_4002</td>\n",
       "      <td>American Airlines: MD-11S</td>\n",
       "      <td>Planes</td>\n",
       "      <td>1:700</td>\n",
       "      <td>Second Gear Diecast</td>\n",
       "      <td>Polished finish. Exact replia with official lo...</td>\n",
       "      <td>8820</td>\n",
       "      <td>36.27</td>\n",
       "      <td>74.03</td>\n",
       "      <td>37.76</td>\n",
       "    </tr>\n",
       "    <tr>\n",
       "      <th>104</th>\n",
       "      <td>S72_1253</td>\n",
       "      <td>Boeing X-32A JSF</td>\n",
       "      <td>Planes</td>\n",
       "      <td>1:72</td>\n",
       "      <td>Motor City Art Classics</td>\n",
       "      <td>10 Wingspan with retractable landing gears.Com...</td>\n",
       "      <td>4857</td>\n",
       "      <td>32.77</td>\n",
       "      <td>49.66</td>\n",
       "      <td>16.89</td>\n",
       "    </tr>\n",
       "    <tr>\n",
       "      <th>105</th>\n",
       "      <td>S72_3212</td>\n",
       "      <td>Pont Yacht</td>\n",
       "      <td>Ships</td>\n",
       "      <td>1:72</td>\n",
       "      <td>Unimax Art Galleries</td>\n",
       "      <td>Measures 38 inches Long x 33 3/4 inches High. ...</td>\n",
       "      <td>414</td>\n",
       "      <td>33.30</td>\n",
       "      <td>54.60</td>\n",
       "      <td>21.30</td>\n",
       "    </tr>\n",
       "  </tbody>\n",
       "</table>\n",
       "<p>106 rows × 10 columns</p>\n",
       "</div>"
      ],
      "text/plain": [
       "    productCode                            productName   productLine  \\\n",
       "0      S10_1678  1969 Harley Davidson Ultimate Chopper   Motorcycles   \n",
       "1      S10_1949               1952 Alpine Renault 1300  Classic Cars   \n",
       "2      S10_2016                  1996 Moto Guzzi 1100i   Motorcycles   \n",
       "3      S10_4698   2003 Harley-Davidson Eagle Drag Bike   Motorcycles   \n",
       "4      S10_4757                    1972 Alfa Romeo GTA  Classic Cars   \n",
       "..          ...                                    ...           ...   \n",
       "101   S700_3505                            The Titanic         Ships   \n",
       "102   S700_3962                         The Queen Mary         Ships   \n",
       "103   S700_4002              American Airlines: MD-11S        Planes   \n",
       "104    S72_1253                       Boeing X-32A JSF        Planes   \n",
       "105    S72_3212                             Pont Yacht         Ships   \n",
       "\n",
       "    productScale              productVendor  \\\n",
       "0           1:10            Min Lin Diecast   \n",
       "1           1:10    Classic Metal Creations   \n",
       "2           1:10   Highway 66 Mini Classics   \n",
       "3           1:10          Red Start Diecast   \n",
       "4           1:10    Motor City Art Classics   \n",
       "..           ...                        ...   \n",
       "101        1:700   Carousel DieCast Legends   \n",
       "102        1:700  Welly Diecast Productions   \n",
       "103        1:700        Second Gear Diecast   \n",
       "104         1:72    Motor City Art Classics   \n",
       "105         1:72       Unimax Art Galleries   \n",
       "\n",
       "                                    productDescription  quantityInStock  \\\n",
       "0    This replica features working kickstand, front...             7933   \n",
       "1    Turnable front wheels; steering function; deta...             7305   \n",
       "2    Official Moto Guzzi logos and insignias, saddl...             6625   \n",
       "3    Model features, official Harley Davidson logos...             5582   \n",
       "4    Features include: Turnable front wheels; steer...             3252   \n",
       "..                                                 ...              ...   \n",
       "101  Completed model measures 19 1/2 inches long, 9...             1956   \n",
       "102  Exact replica. Wood and Metal. Many extras inc...             5088   \n",
       "103  Polished finish. Exact replia with official lo...             8820   \n",
       "104  10 Wingspan with retractable landing gears.Com...             4857   \n",
       "105  Measures 38 inches Long x 33 3/4 inches High. ...              414   \n",
       "\n",
       "     buyPrice    MSRP  profit  \n",
       "0       48.81   95.70   46.89  \n",
       "1       98.58  214.30  115.72  \n",
       "2       68.99  118.94   49.95  \n",
       "3       91.02  193.66  102.64  \n",
       "4       85.68  136.00   50.32  \n",
       "..        ...     ...     ...  \n",
       "101     51.09  100.17   49.08  \n",
       "102     53.63   99.31   45.68  \n",
       "103     36.27   74.03   37.76  \n",
       "104     32.77   49.66   16.89  \n",
       "105     33.30   54.60   21.30  \n",
       "\n",
       "[106 rows x 10 columns]"
      ]
     },
     "execution_count": 5,
     "metadata": {},
     "output_type": "execute_result"
    }
   ],
   "source": [
    "products[\"profit\"] = products[\"MSRP\"] - products[\"buyPrice\"]\n",
    "products"
   ]
  },
  {
   "cell_type": "markdown",
   "id": "a36005c8",
   "metadata": {
    "papermill": {
     "duration": 0.01181,
     "end_time": "2023-04-07T12:22:40.492173",
     "exception": false,
     "start_time": "2023-04-07T12:22:40.480363",
     "status": "completed"
    },
    "tags": []
   },
   "source": [
    "Next let me check the top 20 most profitable items and see which product line(s)/models we should focus on the most."
   ]
  },
  {
   "cell_type": "code",
   "execution_count": 6,
   "id": "10258e4b",
   "metadata": {
    "execution": {
     "iopub.execute_input": "2023-04-07T12:22:40.518873Z",
     "iopub.status.busy": "2023-04-07T12:22:40.517754Z",
     "iopub.status.idle": "2023-04-07T12:22:40.544147Z",
     "shell.execute_reply": "2023-04-07T12:22:40.542806Z"
    },
    "papermill": {
     "duration": 0.042405,
     "end_time": "2023-04-07T12:22:40.546627",
     "exception": false,
     "start_time": "2023-04-07T12:22:40.504222",
     "status": "completed"
    },
    "tags": []
   },
   "outputs": [
    {
     "data": {
      "text/html": [
       "<div>\n",
       "<style scoped>\n",
       "    .dataframe tbody tr th:only-of-type {\n",
       "        vertical-align: middle;\n",
       "    }\n",
       "\n",
       "    .dataframe tbody tr th {\n",
       "        vertical-align: top;\n",
       "    }\n",
       "\n",
       "    .dataframe thead th {\n",
       "        text-align: right;\n",
       "    }\n",
       "</style>\n",
       "<table border=\"1\" class=\"dataframe\">\n",
       "  <thead>\n",
       "    <tr style=\"text-align: right;\">\n",
       "      <th></th>\n",
       "      <th>productCode</th>\n",
       "      <th>productName</th>\n",
       "      <th>productLine</th>\n",
       "      <th>productScale</th>\n",
       "      <th>productVendor</th>\n",
       "      <th>productDescription</th>\n",
       "      <th>quantityInStock</th>\n",
       "      <th>buyPrice</th>\n",
       "      <th>MSRP</th>\n",
       "      <th>profit</th>\n",
       "    </tr>\n",
       "  </thead>\n",
       "  <tbody>\n",
       "    <tr>\n",
       "      <th>1</th>\n",
       "      <td>S10_1949</td>\n",
       "      <td>1952 Alpine Renault 1300</td>\n",
       "      <td>Classic Cars</td>\n",
       "      <td>1:10</td>\n",
       "      <td>Classic Metal Creations</td>\n",
       "      <td>Turnable front wheels; steering function; deta...</td>\n",
       "      <td>7305</td>\n",
       "      <td>98.58</td>\n",
       "      <td>214.30</td>\n",
       "      <td>115.72</td>\n",
       "    </tr>\n",
       "    <tr>\n",
       "      <th>7</th>\n",
       "      <td>S12_1108</td>\n",
       "      <td>2001 Ferrari Enzo</td>\n",
       "      <td>Classic Cars</td>\n",
       "      <td>1:12</td>\n",
       "      <td>Second Gear Diecast</td>\n",
       "      <td>Turnable front wheels; steering function; deta...</td>\n",
       "      <td>3619</td>\n",
       "      <td>95.59</td>\n",
       "      <td>207.80</td>\n",
       "      <td>112.21</td>\n",
       "    </tr>\n",
       "    <tr>\n",
       "      <th>3</th>\n",
       "      <td>S10_4698</td>\n",
       "      <td>2003 Harley-Davidson Eagle Drag Bike</td>\n",
       "      <td>Motorcycles</td>\n",
       "      <td>1:10</td>\n",
       "      <td>Red Start Diecast</td>\n",
       "      <td>Model features, official Harley Davidson logos...</td>\n",
       "      <td>5582</td>\n",
       "      <td>91.02</td>\n",
       "      <td>193.66</td>\n",
       "      <td>102.64</td>\n",
       "    </tr>\n",
       "    <tr>\n",
       "      <th>6</th>\n",
       "      <td>S12_1099</td>\n",
       "      <td>1968 Ford Mustang</td>\n",
       "      <td>Classic Cars</td>\n",
       "      <td>1:12</td>\n",
       "      <td>Autoart Studio Design</td>\n",
       "      <td>Hood, doors and trunk all open to reveal highl...</td>\n",
       "      <td>68</td>\n",
       "      <td>95.34</td>\n",
       "      <td>194.57</td>\n",
       "      <td>99.23</td>\n",
       "    </tr>\n",
       "    <tr>\n",
       "      <th>30</th>\n",
       "      <td>S18_2795</td>\n",
       "      <td>1928 Mercedes-Benz SSK</td>\n",
       "      <td>Vintage Cars</td>\n",
       "      <td>1:18</td>\n",
       "      <td>Gearbox Collectibles</td>\n",
       "      <td>This 1:18 replica features grille-mounted chro...</td>\n",
       "      <td>548</td>\n",
       "      <td>72.56</td>\n",
       "      <td>168.75</td>\n",
       "      <td>96.19</td>\n",
       "    </tr>\n",
       "    <tr>\n",
       "      <th>37</th>\n",
       "      <td>S18_3232</td>\n",
       "      <td>1992 Ferrari 360 Spider red</td>\n",
       "      <td>Classic Cars</td>\n",
       "      <td>1:18</td>\n",
       "      <td>Unimax Art Galleries</td>\n",
       "      <td>his replica features opening doors, superb det...</td>\n",
       "      <td>8347</td>\n",
       "      <td>77.90</td>\n",
       "      <td>169.34</td>\n",
       "      <td>91.44</td>\n",
       "    </tr>\n",
       "    <tr>\n",
       "      <th>11</th>\n",
       "      <td>S12_3891</td>\n",
       "      <td>1969 Ford Falcon</td>\n",
       "      <td>Classic Cars</td>\n",
       "      <td>1:12</td>\n",
       "      <td>Second Gear Diecast</td>\n",
       "      <td>Turnable front wheels; steering function; deta...</td>\n",
       "      <td>1049</td>\n",
       "      <td>83.05</td>\n",
       "      <td>173.02</td>\n",
       "      <td>89.97</td>\n",
       "    </tr>\n",
       "    <tr>\n",
       "      <th>9</th>\n",
       "      <td>S12_2823</td>\n",
       "      <td>2002 Suzuki XREO</td>\n",
       "      <td>Motorcycles</td>\n",
       "      <td>1:12</td>\n",
       "      <td>Unimax Art Galleries</td>\n",
       "      <td>Official logos and insignias, saddle bags loca...</td>\n",
       "      <td>9997</td>\n",
       "      <td>66.27</td>\n",
       "      <td>150.62</td>\n",
       "      <td>84.35</td>\n",
       "    </tr>\n",
       "    <tr>\n",
       "      <th>20</th>\n",
       "      <td>S18_1749</td>\n",
       "      <td>1917 Grand Touring Sedan</td>\n",
       "      <td>Vintage Cars</td>\n",
       "      <td>1:18</td>\n",
       "      <td>Welly Diecast Productions</td>\n",
       "      <td>This 1:18 scale replica of the 1917 Grand Tour...</td>\n",
       "      <td>2724</td>\n",
       "      <td>86.70</td>\n",
       "      <td>170.00</td>\n",
       "      <td>83.30</td>\n",
       "    </tr>\n",
       "    <tr>\n",
       "      <th>19</th>\n",
       "      <td>S18_1662</td>\n",
       "      <td>1980s Black Hawk Helicopter</td>\n",
       "      <td>Planes</td>\n",
       "      <td>1:18</td>\n",
       "      <td>Red Start Diecast</td>\n",
       "      <td>1:18 scale replica of actual Army's UH-60L BLA...</td>\n",
       "      <td>5330</td>\n",
       "      <td>77.27</td>\n",
       "      <td>157.69</td>\n",
       "      <td>80.42</td>\n",
       "    </tr>\n",
       "    <tr>\n",
       "      <th>43</th>\n",
       "      <td>S18_3685</td>\n",
       "      <td>1948 Porsche Type 356 Roadster</td>\n",
       "      <td>Classic Cars</td>\n",
       "      <td>1:18</td>\n",
       "      <td>Gearbox Collectibles</td>\n",
       "      <td>This model features working front and rear sus...</td>\n",
       "      <td>8990</td>\n",
       "      <td>62.16</td>\n",
       "      <td>141.28</td>\n",
       "      <td>79.12</td>\n",
       "    </tr>\n",
       "    <tr>\n",
       "      <th>51</th>\n",
       "      <td>S18_4721</td>\n",
       "      <td>1957 Corvette Convertible</td>\n",
       "      <td>Classic Cars</td>\n",
       "      <td>1:18</td>\n",
       "      <td>Classic Metal Creations</td>\n",
       "      <td>1957 die cast Corvette Convertible in Roman Re...</td>\n",
       "      <td>1249</td>\n",
       "      <td>69.93</td>\n",
       "      <td>148.80</td>\n",
       "      <td>78.87</td>\n",
       "    </tr>\n",
       "    <tr>\n",
       "      <th>31</th>\n",
       "      <td>S18_2870</td>\n",
       "      <td>1999 Indy 500 Monte Carlo SS</td>\n",
       "      <td>Classic Cars</td>\n",
       "      <td>1:18</td>\n",
       "      <td>Red Start Diecast</td>\n",
       "      <td>Features include opening and closing doors. Co...</td>\n",
       "      <td>8164</td>\n",
       "      <td>56.76</td>\n",
       "      <td>132.00</td>\n",
       "      <td>75.24</td>\n",
       "    </tr>\n",
       "    <tr>\n",
       "      <th>42</th>\n",
       "      <td>S18_3482</td>\n",
       "      <td>1976 Ford Gran Torino</td>\n",
       "      <td>Classic Cars</td>\n",
       "      <td>1:18</td>\n",
       "      <td>Gearbox Collectibles</td>\n",
       "      <td>Highly detailed 1976 Ford Gran Torino Starsky ...</td>\n",
       "      <td>9127</td>\n",
       "      <td>73.49</td>\n",
       "      <td>146.99</td>\n",
       "      <td>73.50</td>\n",
       "    </tr>\n",
       "    <tr>\n",
       "      <th>26</th>\n",
       "      <td>S18_2325</td>\n",
       "      <td>1932 Model A Ford J-Coupe</td>\n",
       "      <td>Vintage Cars</td>\n",
       "      <td>1:18</td>\n",
       "      <td>Autoart Studio Design</td>\n",
       "      <td>This model features grille-mounted chrome horn...</td>\n",
       "      <td>9354</td>\n",
       "      <td>58.48</td>\n",
       "      <td>127.13</td>\n",
       "      <td>68.65</td>\n",
       "    </tr>\n",
       "    <tr>\n",
       "      <th>36</th>\n",
       "      <td>S18_3140</td>\n",
       "      <td>1903 Ford Model A</td>\n",
       "      <td>Vintage Cars</td>\n",
       "      <td>1:18</td>\n",
       "      <td>Unimax Art Galleries</td>\n",
       "      <td>Features opening trunk,  working steering system</td>\n",
       "      <td>3913</td>\n",
       "      <td>68.30</td>\n",
       "      <td>136.59</td>\n",
       "      <td>68.29</td>\n",
       "    </tr>\n",
       "    <tr>\n",
       "      <th>61</th>\n",
       "      <td>S24_2300</td>\n",
       "      <td>1962 Volkswagen Microbus</td>\n",
       "      <td>Trucks and Buses</td>\n",
       "      <td>1:24</td>\n",
       "      <td>Autoart Studio Design</td>\n",
       "      <td>This 1:18 scale die cast replica of the 1962 M...</td>\n",
       "      <td>2327</td>\n",
       "      <td>61.34</td>\n",
       "      <td>127.79</td>\n",
       "      <td>66.45</td>\n",
       "    </tr>\n",
       "    <tr>\n",
       "      <th>23</th>\n",
       "      <td>S18_2238</td>\n",
       "      <td>1998 Chrysler Plymouth Prowler</td>\n",
       "      <td>Classic Cars</td>\n",
       "      <td>1:18</td>\n",
       "      <td>Gearbox Collectibles</td>\n",
       "      <td>Turnable front wheels; steering function; deta...</td>\n",
       "      <td>4724</td>\n",
       "      <td>101.51</td>\n",
       "      <td>163.73</td>\n",
       "      <td>62.22</td>\n",
       "    </tr>\n",
       "    <tr>\n",
       "      <th>99</th>\n",
       "      <td>S700_2834</td>\n",
       "      <td>ATA: B757-300</td>\n",
       "      <td>Planes</td>\n",
       "      <td>1:700</td>\n",
       "      <td>Highway 66 Mini Classics</td>\n",
       "      <td>Exact replia with official logos and insignias...</td>\n",
       "      <td>7106</td>\n",
       "      <td>59.33</td>\n",
       "      <td>118.65</td>\n",
       "      <td>59.32</td>\n",
       "    </tr>\n",
       "    <tr>\n",
       "      <th>8</th>\n",
       "      <td>S12_1666</td>\n",
       "      <td>1958 Setra Bus</td>\n",
       "      <td>Trucks and Buses</td>\n",
       "      <td>1:12</td>\n",
       "      <td>Welly Diecast Productions</td>\n",
       "      <td>Model features 30 windows, skylights &amp; glare r...</td>\n",
       "      <td>1579</td>\n",
       "      <td>77.90</td>\n",
       "      <td>136.67</td>\n",
       "      <td>58.77</td>\n",
       "    </tr>\n",
       "  </tbody>\n",
       "</table>\n",
       "</div>"
      ],
      "text/plain": [
       "   productCode                           productName       productLine  \\\n",
       "1     S10_1949              1952 Alpine Renault 1300      Classic Cars   \n",
       "7     S12_1108                     2001 Ferrari Enzo      Classic Cars   \n",
       "3     S10_4698  2003 Harley-Davidson Eagle Drag Bike       Motorcycles   \n",
       "6     S12_1099                     1968 Ford Mustang      Classic Cars   \n",
       "30    S18_2795                1928 Mercedes-Benz SSK      Vintage Cars   \n",
       "37    S18_3232           1992 Ferrari 360 Spider red      Classic Cars   \n",
       "11    S12_3891                      1969 Ford Falcon      Classic Cars   \n",
       "9     S12_2823                      2002 Suzuki XREO       Motorcycles   \n",
       "20    S18_1749              1917 Grand Touring Sedan      Vintage Cars   \n",
       "19    S18_1662           1980s Black Hawk Helicopter            Planes   \n",
       "43    S18_3685        1948 Porsche Type 356 Roadster      Classic Cars   \n",
       "51    S18_4721             1957 Corvette Convertible      Classic Cars   \n",
       "31    S18_2870          1999 Indy 500 Monte Carlo SS      Classic Cars   \n",
       "42    S18_3482                 1976 Ford Gran Torino      Classic Cars   \n",
       "26    S18_2325             1932 Model A Ford J-Coupe      Vintage Cars   \n",
       "36    S18_3140                     1903 Ford Model A      Vintage Cars   \n",
       "61    S24_2300              1962 Volkswagen Microbus  Trucks and Buses   \n",
       "23    S18_2238        1998 Chrysler Plymouth Prowler      Classic Cars   \n",
       "99   S700_2834                         ATA: B757-300            Planes   \n",
       "8     S12_1666                        1958 Setra Bus  Trucks and Buses   \n",
       "\n",
       "   productScale              productVendor  \\\n",
       "1          1:10    Classic Metal Creations   \n",
       "7          1:12        Second Gear Diecast   \n",
       "3          1:10          Red Start Diecast   \n",
       "6          1:12      Autoart Studio Design   \n",
       "30         1:18       Gearbox Collectibles   \n",
       "37         1:18       Unimax Art Galleries   \n",
       "11         1:12        Second Gear Diecast   \n",
       "9          1:12       Unimax Art Galleries   \n",
       "20         1:18  Welly Diecast Productions   \n",
       "19         1:18          Red Start Diecast   \n",
       "43         1:18       Gearbox Collectibles   \n",
       "51         1:18    Classic Metal Creations   \n",
       "31         1:18          Red Start Diecast   \n",
       "42         1:18       Gearbox Collectibles   \n",
       "26         1:18      Autoart Studio Design   \n",
       "36         1:18       Unimax Art Galleries   \n",
       "61         1:24      Autoart Studio Design   \n",
       "23         1:18       Gearbox Collectibles   \n",
       "99        1:700   Highway 66 Mini Classics   \n",
       "8          1:12  Welly Diecast Productions   \n",
       "\n",
       "                                   productDescription  quantityInStock  \\\n",
       "1   Turnable front wheels; steering function; deta...             7305   \n",
       "7   Turnable front wheels; steering function; deta...             3619   \n",
       "3   Model features, official Harley Davidson logos...             5582   \n",
       "6   Hood, doors and trunk all open to reveal highl...               68   \n",
       "30  This 1:18 replica features grille-mounted chro...              548   \n",
       "37  his replica features opening doors, superb det...             8347   \n",
       "11  Turnable front wheels; steering function; deta...             1049   \n",
       "9   Official logos and insignias, saddle bags loca...             9997   \n",
       "20  This 1:18 scale replica of the 1917 Grand Tour...             2724   \n",
       "19  1:18 scale replica of actual Army's UH-60L BLA...             5330   \n",
       "43  This model features working front and rear sus...             8990   \n",
       "51  1957 die cast Corvette Convertible in Roman Re...             1249   \n",
       "31  Features include opening and closing doors. Co...             8164   \n",
       "42  Highly detailed 1976 Ford Gran Torino Starsky ...             9127   \n",
       "26  This model features grille-mounted chrome horn...             9354   \n",
       "36   Features opening trunk,  working steering system             3913   \n",
       "61  This 1:18 scale die cast replica of the 1962 M...             2327   \n",
       "23  Turnable front wheels; steering function; deta...             4724   \n",
       "99  Exact replia with official logos and insignias...             7106   \n",
       "8   Model features 30 windows, skylights & glare r...             1579   \n",
       "\n",
       "    buyPrice    MSRP  profit  \n",
       "1      98.58  214.30  115.72  \n",
       "7      95.59  207.80  112.21  \n",
       "3      91.02  193.66  102.64  \n",
       "6      95.34  194.57   99.23  \n",
       "30     72.56  168.75   96.19  \n",
       "37     77.90  169.34   91.44  \n",
       "11     83.05  173.02   89.97  \n",
       "9      66.27  150.62   84.35  \n",
       "20     86.70  170.00   83.30  \n",
       "19     77.27  157.69   80.42  \n",
       "43     62.16  141.28   79.12  \n",
       "51     69.93  148.80   78.87  \n",
       "31     56.76  132.00   75.24  \n",
       "42     73.49  146.99   73.50  \n",
       "26     58.48  127.13   68.65  \n",
       "36     68.30  136.59   68.29  \n",
       "61     61.34  127.79   66.45  \n",
       "23    101.51  163.73   62.22  \n",
       "99     59.33  118.65   59.32  \n",
       "8      77.90  136.67   58.77  "
      ]
     },
     "execution_count": 6,
     "metadata": {},
     "output_type": "execute_result"
    }
   ],
   "source": [
    "most_profitable_products = products.sort_values(\"profit\", ascending=False).head(20)\n",
    "\n",
    "most_profitable_products"
   ]
  },
  {
   "cell_type": "markdown",
   "id": "43642815",
   "metadata": {
    "papermill": {
     "duration": 0.013308,
     "end_time": "2023-04-07T12:22:40.573324",
     "exception": false,
     "start_time": "2023-04-07T12:22:40.560016",
     "status": "completed"
    },
    "tags": []
   },
   "source": [
    "Well this was interesting. It would appear that classic cars are our most profitable productLine. One thing that immediately stood out to me is that our \"1968 Ford Mustage\" is low in stock; we should probably order some more of those. Lets do some value counts to see how our profitalbe productLines stack up. "
   ]
  },
  {
   "cell_type": "code",
   "execution_count": 7,
   "id": "045034ea",
   "metadata": {
    "execution": {
     "iopub.execute_input": "2023-04-07T12:22:40.601012Z",
     "iopub.status.busy": "2023-04-07T12:22:40.600179Z",
     "iopub.status.idle": "2023-04-07T12:22:40.610113Z",
     "shell.execute_reply": "2023-04-07T12:22:40.609162Z"
    },
    "papermill": {
     "duration": 0.026016,
     "end_time": "2023-04-07T12:22:40.612422",
     "exception": false,
     "start_time": "2023-04-07T12:22:40.586406",
     "status": "completed"
    },
    "tags": []
   },
   "outputs": [
    {
     "data": {
      "text/plain": [
       "productLine\n",
       "Classic Cars        10\n",
       "Vintage Cars         4\n",
       "Motorcycles          2\n",
       "Planes               2\n",
       "Trucks and Buses     2\n",
       "dtype: int64"
      ]
     },
     "execution_count": 7,
     "metadata": {},
     "output_type": "execute_result"
    }
   ],
   "source": [
    "most_profitable_products.value_counts(\"productLine\")\n"
   ]
  },
  {
   "cell_type": "markdown",
   "id": "f67af610",
   "metadata": {
    "papermill": {
     "duration": 0.012299,
     "end_time": "2023-04-07T12:22:40.637324",
     "exception": false,
     "start_time": "2023-04-07T12:22:40.625025",
     "status": "completed"
    },
    "tags": []
   },
   "source": [
    "From this limited scope, I would initially believe that Classic Cars, which make up 50% of our top 20 most profitable products, would be our biggest profit driver. Outside of the top 20, I'm curious how all\n",
    "productLines perform; Let's take this to Seaborn to get a graphical representation. "
   ]
  },
  {
   "cell_type": "code",
   "execution_count": 8,
   "id": "7aaac9e7",
   "metadata": {
    "execution": {
     "iopub.execute_input": "2023-04-07T12:22:40.665034Z",
     "iopub.status.busy": "2023-04-07T12:22:40.663767Z",
     "iopub.status.idle": "2023-04-07T12:22:41.015582Z",
     "shell.execute_reply": "2023-04-07T12:22:41.014276Z"
    },
    "papermill": {
     "duration": 0.368021,
     "end_time": "2023-04-07T12:22:41.017956",
     "exception": false,
     "start_time": "2023-04-07T12:22:40.649935",
     "status": "completed"
    },
    "tags": []
   },
   "outputs": [
    {
     "data": {
      "text/plain": [
       "<AxesSubplot:xlabel='profit', ylabel='productLine'>"
      ]
     },
     "execution_count": 8,
     "metadata": {},
     "output_type": "execute_result"
    },
    {
     "data": {
      "image/png": "[encoded data removed]",
      "text/plain": [
       "<Figure size 432x288 with 1 Axes>"
      ]
     },
     "metadata": {
      "needs_background": "light"
     },
     "output_type": "display_data"
    }
   ],
   "source": [
    "# First let me check the average profit among the top 20\n",
    "\n",
    "sns.barplot(data=most_profitable_products,x=\"profit\", y = \"productLine\", estimator = np.average )"
   ]
  },
  {
   "cell_type": "markdown",
   "id": "65566a1a",
   "metadata": {
    "papermill": {
     "duration": 0.012935,
     "end_time": "2023-04-07T12:22:41.044008",
     "exception": false,
     "start_time": "2023-04-07T12:22:41.031073",
     "status": "completed"
    },
    "tags": []
   },
   "source": [
    "Well that's interesting; in our top 20 list on average the motorcycles drive a higher profit. It should be noted that while on average they seem to generate the most profit, motorcycles only had two instances in our top 20 list. Let me change the estimator to \"sum\" to see the total. "
   ]
  },
  {
   "cell_type": "code",
   "execution_count": 9,
   "id": "7c63359a",
   "metadata": {
    "execution": {
     "iopub.execute_input": "2023-04-07T12:22:41.072240Z",
     "iopub.status.busy": "2023-04-07T12:22:41.071621Z",
     "iopub.status.idle": "2023-04-07T12:22:41.354297Z",
     "shell.execute_reply": "2023-04-07T12:22:41.353017Z"
    },
    "papermill": {
     "duration": 0.299666,
     "end_time": "2023-04-07T12:22:41.356784",
     "exception": false,
     "start_time": "2023-04-07T12:22:41.057118",
     "status": "completed"
    },
    "tags": []
   },
   "outputs": [
    {
     "data": {
      "text/plain": [
       "<AxesSubplot:xlabel='profit', ylabel='productLine'>"
      ]
     },
     "execution_count": 9,
     "metadata": {},
     "output_type": "execute_result"
    },
    {
     "data": {
      "image/png": "[encoded data removed]",
      "text/plain": [
       "<Figure size 432x288 with 1 Axes>"
      ]
     },
     "metadata": {
      "needs_background": "light"
     },
     "output_type": "display_data"
    }
   ],
   "source": [
    "sns.barplot(data=most_profitable_products,x=\"profit\", y = \"productLine\", estimator = np.sum )"
   ]
  },
  {
   "cell_type": "markdown",
   "id": "593b76d8",
   "metadata": {
    "papermill": {
     "duration": 0.013845,
     "end_time": "2023-04-07T12:22:41.384582",
     "exception": false,
     "start_time": "2023-04-07T12:22:41.370737",
     "status": "completed"
    },
    "tags": []
   },
   "source": [
    "That seems to be more in line with what we were seeing above. Now lets check across all products instead of the top 20. "
   ]
  },
  {
   "cell_type": "code",
   "execution_count": 10,
   "id": "c7507dd1",
   "metadata": {
    "execution": {
     "iopub.execute_input": "2023-04-07T12:22:41.413708Z",
     "iopub.status.busy": "2023-04-07T12:22:41.412732Z",
     "iopub.status.idle": "2023-04-07T12:22:41.438505Z",
     "shell.execute_reply": "2023-04-07T12:22:41.437418Z"
    },
    "papermill": {
     "duration": 0.042769,
     "end_time": "2023-04-07T12:22:41.440824",
     "exception": false,
     "start_time": "2023-04-07T12:22:41.398055",
     "status": "completed"
    },
    "tags": []
   },
   "outputs": [
    {
     "data": {
      "text/html": [
       "<div>\n",
       "<style scoped>\n",
       "    .dataframe tbody tr th:only-of-type {\n",
       "        vertical-align: middle;\n",
       "    }\n",
       "\n",
       "    .dataframe tbody tr th {\n",
       "        vertical-align: top;\n",
       "    }\n",
       "\n",
       "    .dataframe thead th {\n",
       "        text-align: right;\n",
       "    }\n",
       "</style>\n",
       "<table border=\"1\" class=\"dataframe\">\n",
       "  <thead>\n",
       "    <tr style=\"text-align: right;\">\n",
       "      <th></th>\n",
       "      <th>min_profit</th>\n",
       "      <th>max_profit</th>\n",
       "      <th>avg_profit</th>\n",
       "      <th>total_profit</th>\n",
       "    </tr>\n",
       "    <tr>\n",
       "      <th>productLine</th>\n",
       "      <th></th>\n",
       "      <th></th>\n",
       "      <th></th>\n",
       "      <th></th>\n",
       "    </tr>\n",
       "  </thead>\n",
       "  <tbody>\n",
       "    <tr>\n",
       "      <th>Classic Cars</th>\n",
       "      <td>19.45</td>\n",
       "      <td>115.72</td>\n",
       "      <td>54.124167</td>\n",
       "      <td>1948.47</td>\n",
       "    </tr>\n",
       "    <tr>\n",
       "      <th>Motorcycles</th>\n",
       "      <td>16.09</td>\n",
       "      <td>102.64</td>\n",
       "      <td>46.493077</td>\n",
       "      <td>604.41</td>\n",
       "    </tr>\n",
       "    <tr>\n",
       "      <th>Planes</th>\n",
       "      <td>16.89</td>\n",
       "      <td>80.42</td>\n",
       "      <td>39.886667</td>\n",
       "      <td>478.64</td>\n",
       "    </tr>\n",
       "    <tr>\n",
       "      <th>Ships</th>\n",
       "      <td>21.30</td>\n",
       "      <td>50.69</td>\n",
       "      <td>39.711250</td>\n",
       "      <td>317.69</td>\n",
       "    </tr>\n",
       "    <tr>\n",
       "      <th>Trains</th>\n",
       "      <td>21.09</td>\n",
       "      <td>35.42</td>\n",
       "      <td>29.930000</td>\n",
       "      <td>89.79</td>\n",
       "    </tr>\n",
       "    <tr>\n",
       "      <th>Trucks and Buses</th>\n",
       "      <td>28.13</td>\n",
       "      <td>66.45</td>\n",
       "      <td>45.260000</td>\n",
       "      <td>452.60</td>\n",
       "    </tr>\n",
       "    <tr>\n",
       "      <th>Vintage Cars</th>\n",
       "      <td>10.62</td>\n",
       "      <td>96.19</td>\n",
       "      <td>41.029583</td>\n",
       "      <td>984.71</td>\n",
       "    </tr>\n",
       "  </tbody>\n",
       "</table>\n",
       "</div>"
      ],
      "text/plain": [
       "                  min_profit  max_profit  avg_profit  total_profit\n",
       "productLine                                                       \n",
       "Classic Cars           19.45      115.72   54.124167       1948.47\n",
       "Motorcycles            16.09      102.64   46.493077        604.41\n",
       "Planes                 16.89       80.42   39.886667        478.64\n",
       "Ships                  21.30       50.69   39.711250        317.69\n",
       "Trains                 21.09       35.42   29.930000         89.79\n",
       "Trucks and Buses       28.13       66.45   45.260000        452.60\n",
       "Vintage Cars           10.62       96.19   41.029583        984.71"
      ]
     },
     "execution_count": 10,
     "metadata": {},
     "output_type": "execute_result"
    }
   ],
   "source": [
    "\n",
    "pl_profits = products.groupby(\"productLine\").agg(\n",
    "    min_profit = (\"profit\",\"min\"),\n",
    "    max_profit = (\"profit\",\"max\"),\n",
    "    avg_profit = (\"profit\",\"mean\"),\n",
    "    total_profit = (\"profit\",\"sum\")\n",
    ")\n",
    "    \n",
    "\n",
    "pl_profits"
   ]
  },
  {
   "cell_type": "markdown",
   "id": "e6a35854",
   "metadata": {
    "papermill": {
     "duration": 0.013843,
     "end_time": "2023-04-07T12:22:41.468914",
     "exception": false,
     "start_time": "2023-04-07T12:22:41.455071",
     "status": "completed"
    },
    "tags": []
   },
   "source": [
    "So before we do any plotting, I decided to get some quick aggregates acorss the productLine's profits. "
   ]
  },
  {
   "cell_type": "code",
   "execution_count": 11,
   "id": "ecd05010",
   "metadata": {
    "execution": {
     "iopub.execute_input": "2023-04-07T12:22:41.499558Z",
     "iopub.status.busy": "2023-04-07T12:22:41.498443Z",
     "iopub.status.idle": "2023-04-07T12:22:41.513730Z",
     "shell.execute_reply": "2023-04-07T12:22:41.512438Z"
    },
    "papermill": {
     "duration": 0.032961,
     "end_time": "2023-04-07T12:22:41.516150",
     "exception": false,
     "start_time": "2023-04-07T12:22:41.483189",
     "status": "completed"
    },
    "tags": []
   },
   "outputs": [
    {
     "data": {
      "text/html": [
       "<div>\n",
       "<style scoped>\n",
       "    .dataframe tbody tr th:only-of-type {\n",
       "        vertical-align: middle;\n",
       "    }\n",
       "\n",
       "    .dataframe tbody tr th {\n",
       "        vertical-align: top;\n",
       "    }\n",
       "\n",
       "    .dataframe thead th {\n",
       "        text-align: right;\n",
       "    }\n",
       "</style>\n",
       "<table border=\"1\" class=\"dataframe\">\n",
       "  <thead>\n",
       "    <tr style=\"text-align: right;\">\n",
       "      <th></th>\n",
       "      <th>min_profit</th>\n",
       "      <th>max_profit</th>\n",
       "      <th>avg_profit</th>\n",
       "      <th>total_profit</th>\n",
       "    </tr>\n",
       "    <tr>\n",
       "      <th>productLine</th>\n",
       "      <th></th>\n",
       "      <th></th>\n",
       "      <th></th>\n",
       "      <th></th>\n",
       "    </tr>\n",
       "  </thead>\n",
       "  <tbody>\n",
       "    <tr>\n",
       "      <th>Classic Cars</th>\n",
       "      <td>19.45</td>\n",
       "      <td>115.72</td>\n",
       "      <td>54.124167</td>\n",
       "      <td>1948.47</td>\n",
       "    </tr>\n",
       "    <tr>\n",
       "      <th>Vintage Cars</th>\n",
       "      <td>10.62</td>\n",
       "      <td>96.19</td>\n",
       "      <td>41.029583</td>\n",
       "      <td>984.71</td>\n",
       "    </tr>\n",
       "    <tr>\n",
       "      <th>Motorcycles</th>\n",
       "      <td>16.09</td>\n",
       "      <td>102.64</td>\n",
       "      <td>46.493077</td>\n",
       "      <td>604.41</td>\n",
       "    </tr>\n",
       "    <tr>\n",
       "      <th>Planes</th>\n",
       "      <td>16.89</td>\n",
       "      <td>80.42</td>\n",
       "      <td>39.886667</td>\n",
       "      <td>478.64</td>\n",
       "    </tr>\n",
       "    <tr>\n",
       "      <th>Trucks and Buses</th>\n",
       "      <td>28.13</td>\n",
       "      <td>66.45</td>\n",
       "      <td>45.260000</td>\n",
       "      <td>452.60</td>\n",
       "    </tr>\n",
       "    <tr>\n",
       "      <th>Ships</th>\n",
       "      <td>21.30</td>\n",
       "      <td>50.69</td>\n",
       "      <td>39.711250</td>\n",
       "      <td>317.69</td>\n",
       "    </tr>\n",
       "    <tr>\n",
       "      <th>Trains</th>\n",
       "      <td>21.09</td>\n",
       "      <td>35.42</td>\n",
       "      <td>29.930000</td>\n",
       "      <td>89.79</td>\n",
       "    </tr>\n",
       "  </tbody>\n",
       "</table>\n",
       "</div>"
      ],
      "text/plain": [
       "                  min_profit  max_profit  avg_profit  total_profit\n",
       "productLine                                                       \n",
       "Classic Cars           19.45      115.72   54.124167       1948.47\n",
       "Vintage Cars           10.62       96.19   41.029583        984.71\n",
       "Motorcycles            16.09      102.64   46.493077        604.41\n",
       "Planes                 16.89       80.42   39.886667        478.64\n",
       "Trucks and Buses       28.13       66.45   45.260000        452.60\n",
       "Ships                  21.30       50.69   39.711250        317.69\n",
       "Trains                 21.09       35.42   29.930000         89.79"
      ]
     },
     "execution_count": 11,
     "metadata": {},
     "output_type": "execute_result"
    }
   ],
   "source": [
    "pl_profits.sort_values(\"total_profit\", ascending = False)"
   ]
  },
  {
   "cell_type": "markdown",
   "id": "e5118bcd",
   "metadata": {
    "papermill": {
     "duration": 0.013809,
     "end_time": "2023-04-07T12:22:41.543869",
     "exception": false,
     "start_time": "2023-04-07T12:22:41.530060",
     "status": "completed"
    },
    "tags": []
   },
   "source": [
    "Classic cars seem to be our most profitable productLine. I want to do a quick graph comparing min,max, and avg profits. I won't add total as it will just put the graph way out of skew. "
   ]
  },
  {
   "cell_type": "code",
   "execution_count": 12,
   "id": "3f755cda",
   "metadata": {
    "execution": {
     "iopub.execute_input": "2023-04-07T12:22:41.574249Z",
     "iopub.status.busy": "2023-04-07T12:22:41.573583Z",
     "iopub.status.idle": "2023-04-07T12:22:41.874181Z",
     "shell.execute_reply": "2023-04-07T12:22:41.872852Z"
    },
    "papermill": {
     "duration": 0.318595,
     "end_time": "2023-04-07T12:22:41.876822",
     "exception": false,
     "start_time": "2023-04-07T12:22:41.558227",
     "status": "completed"
    },
    "tags": []
   },
   "outputs": [
    {
     "data": {
      "text/plain": [
       "<AxesSubplot:xlabel='productLine'>"
      ]
     },
     "execution_count": 12,
     "metadata": {},
     "output_type": "execute_result"
    },
    {
     "data": {
      "image/png": "[encoded data removed]",
      "text/plain": [
       "<Figure size 432x288 with 1 Axes>"
      ]
     },
     "metadata": {
      "needs_background": "light"
     },
     "output_type": "display_data"
    }
   ],
   "source": [
    "pl_profits[[\"min_profit\",\"max_profit\",\"avg_profit\"]].sort_values(\"avg_profit\",ascending=False).plot(kind='bar')"
   ]
  },
  {
   "cell_type": "code",
   "execution_count": 13,
   "id": "91512fc3",
   "metadata": {
    "execution": {
     "iopub.execute_input": "2023-04-07T12:22:41.907069Z",
     "iopub.status.busy": "2023-04-07T12:22:41.906690Z",
     "iopub.status.idle": "2023-04-07T12:22:41.918495Z",
     "shell.execute_reply": "2023-04-07T12:22:41.917279Z"
    },
    "papermill": {
     "duration": 0.030102,
     "end_time": "2023-04-07T12:22:41.921141",
     "exception": false,
     "start_time": "2023-04-07T12:22:41.891039",
     "status": "completed"
    },
    "tags": []
   },
   "outputs": [
    {
     "name": "stdout",
     "output_type": "stream",
     "text": [
      "<class 'pandas.core.frame.DataFrame'>\n",
      "Index: 7 entries, Classic Cars to Vintage Cars\n",
      "Data columns (total 4 columns):\n",
      " #   Column        Non-Null Count  Dtype  \n",
      "---  ------        --------------  -----  \n",
      " 0   min_profit    7 non-null      float64\n",
      " 1   max_profit    7 non-null      float64\n",
      " 2   avg_profit    7 non-null      float64\n",
      " 3   total_profit  7 non-null      float64\n",
      "dtypes: float64(4)\n",
      "memory usage: 280.0+ bytes\n"
     ]
    }
   ],
   "source": [
    "pl_profits.info()"
   ]
  },
  {
   "cell_type": "markdown",
   "id": "4e2f9b4d",
   "metadata": {
    "papermill": {
     "duration": 0.013942,
     "end_time": "2023-04-07T12:22:41.949539",
     "exception": false,
     "start_time": "2023-04-07T12:22:41.935597",
     "status": "completed"
    },
    "tags": []
   },
   "source": [
    "I want to classify how profitable our product lines are by an arbitrary number in relation to our avg_profit. I will rank them as either being \"high\", \"mid\", or \"low\" in terms of profitability."
   ]
  },
  {
   "cell_type": "code",
   "execution_count": 14,
   "id": "eff5fd02",
   "metadata": {
    "execution": {
     "iopub.execute_input": "2023-04-07T12:22:41.979795Z",
     "iopub.status.busy": "2023-04-07T12:22:41.979408Z",
     "iopub.status.idle": "2023-04-07T12:22:41.986127Z",
     "shell.execute_reply": "2023-04-07T12:22:41.984990Z"
    },
    "papermill": {
     "duration": 0.024817,
     "end_time": "2023-04-07T12:22:41.988540",
     "exception": false,
     "start_time": "2023-04-07T12:22:41.963723",
     "status": "completed"
    },
    "tags": []
   },
   "outputs": [],
   "source": [
    "def profitability_class(avg):\n",
    "    if avg > 45:                ## 45 and 35 here are arbitrary; they carry no real meaning\n",
    "        return \"high\"\n",
    "    elif avg > 35:\n",
    "        return \"mid\"\n",
    "    else:\n",
    "        return \"low\"\n",
    "    \n",
    "pl_profits[\"profit_class\"] = pl_profits[\"avg_profit\"].apply(profitability_class)"
   ]
  },
  {
   "cell_type": "code",
   "execution_count": 15,
   "id": "e4223766",
   "metadata": {
    "execution": {
     "iopub.execute_input": "2023-04-07T12:22:42.019264Z",
     "iopub.status.busy": "2023-04-07T12:22:42.018802Z",
     "iopub.status.idle": "2023-04-07T12:22:42.033779Z",
     "shell.execute_reply": "2023-04-07T12:22:42.032580Z"
    },
    "papermill": {
     "duration": 0.033127,
     "end_time": "2023-04-07T12:22:42.036058",
     "exception": false,
     "start_time": "2023-04-07T12:22:42.002931",
     "status": "completed"
    },
    "tags": []
   },
   "outputs": [
    {
     "data": {
      "text/html": [
       "<div>\n",
       "<style scoped>\n",
       "    .dataframe tbody tr th:only-of-type {\n",
       "        vertical-align: middle;\n",
       "    }\n",
       "\n",
       "    .dataframe tbody tr th {\n",
       "        vertical-align: top;\n",
       "    }\n",
       "\n",
       "    .dataframe thead th {\n",
       "        text-align: right;\n",
       "    }\n",
       "</style>\n",
       "<table border=\"1\" class=\"dataframe\">\n",
       "  <thead>\n",
       "    <tr style=\"text-align: right;\">\n",
       "      <th></th>\n",
       "      <th>min_profit</th>\n",
       "      <th>max_profit</th>\n",
       "      <th>avg_profit</th>\n",
       "      <th>total_profit</th>\n",
       "      <th>profit_class</th>\n",
       "    </tr>\n",
       "    <tr>\n",
       "      <th>productLine</th>\n",
       "      <th></th>\n",
       "      <th></th>\n",
       "      <th></th>\n",
       "      <th></th>\n",
       "      <th></th>\n",
       "    </tr>\n",
       "  </thead>\n",
       "  <tbody>\n",
       "    <tr>\n",
       "      <th>Classic Cars</th>\n",
       "      <td>19.45</td>\n",
       "      <td>115.72</td>\n",
       "      <td>54.124167</td>\n",
       "      <td>1948.47</td>\n",
       "      <td>high</td>\n",
       "    </tr>\n",
       "    <tr>\n",
       "      <th>Motorcycles</th>\n",
       "      <td>16.09</td>\n",
       "      <td>102.64</td>\n",
       "      <td>46.493077</td>\n",
       "      <td>604.41</td>\n",
       "      <td>high</td>\n",
       "    </tr>\n",
       "    <tr>\n",
       "      <th>Planes</th>\n",
       "      <td>16.89</td>\n",
       "      <td>80.42</td>\n",
       "      <td>39.886667</td>\n",
       "      <td>478.64</td>\n",
       "      <td>mid</td>\n",
       "    </tr>\n",
       "    <tr>\n",
       "      <th>Ships</th>\n",
       "      <td>21.30</td>\n",
       "      <td>50.69</td>\n",
       "      <td>39.711250</td>\n",
       "      <td>317.69</td>\n",
       "      <td>mid</td>\n",
       "    </tr>\n",
       "    <tr>\n",
       "      <th>Trains</th>\n",
       "      <td>21.09</td>\n",
       "      <td>35.42</td>\n",
       "      <td>29.930000</td>\n",
       "      <td>89.79</td>\n",
       "      <td>low</td>\n",
       "    </tr>\n",
       "    <tr>\n",
       "      <th>Trucks and Buses</th>\n",
       "      <td>28.13</td>\n",
       "      <td>66.45</td>\n",
       "      <td>45.260000</td>\n",
       "      <td>452.60</td>\n",
       "      <td>high</td>\n",
       "    </tr>\n",
       "    <tr>\n",
       "      <th>Vintage Cars</th>\n",
       "      <td>10.62</td>\n",
       "      <td>96.19</td>\n",
       "      <td>41.029583</td>\n",
       "      <td>984.71</td>\n",
       "      <td>mid</td>\n",
       "    </tr>\n",
       "  </tbody>\n",
       "</table>\n",
       "</div>"
      ],
      "text/plain": [
       "                  min_profit  max_profit  avg_profit  total_profit  \\\n",
       "productLine                                                          \n",
       "Classic Cars           19.45      115.72   54.124167       1948.47   \n",
       "Motorcycles            16.09      102.64   46.493077        604.41   \n",
       "Planes                 16.89       80.42   39.886667        478.64   \n",
       "Ships                  21.30       50.69   39.711250        317.69   \n",
       "Trains                 21.09       35.42   29.930000         89.79   \n",
       "Trucks and Buses       28.13       66.45   45.260000        452.60   \n",
       "Vintage Cars           10.62       96.19   41.029583        984.71   \n",
       "\n",
       "                 profit_class  \n",
       "productLine                    \n",
       "Classic Cars             high  \n",
       "Motorcycles              high  \n",
       "Planes                    mid  \n",
       "Ships                     mid  \n",
       "Trains                    low  \n",
       "Trucks and Buses         high  \n",
       "Vintage Cars              mid  "
      ]
     },
     "execution_count": 15,
     "metadata": {},
     "output_type": "execute_result"
    }
   ],
   "source": [
    "pl_profits"
   ]
  },
  {
   "cell_type": "code",
   "execution_count": 16,
   "id": "fa5b24ad",
   "metadata": {
    "execution": {
     "iopub.execute_input": "2023-04-07T12:22:42.066867Z",
     "iopub.status.busy": "2023-04-07T12:22:42.066446Z",
     "iopub.status.idle": "2023-04-07T12:22:42.083487Z",
     "shell.execute_reply": "2023-04-07T12:22:42.082302Z"
    },
    "papermill": {
     "duration": 0.035095,
     "end_time": "2023-04-07T12:22:42.085800",
     "exception": false,
     "start_time": "2023-04-07T12:22:42.050705",
     "status": "completed"
    },
    "tags": []
   },
   "outputs": [
    {
     "data": {
      "text/html": [
       "<div>\n",
       "<style scoped>\n",
       "    .dataframe tbody tr th:only-of-type {\n",
       "        vertical-align: middle;\n",
       "    }\n",
       "\n",
       "    .dataframe tbody tr th {\n",
       "        vertical-align: top;\n",
       "    }\n",
       "\n",
       "    .dataframe thead th {\n",
       "        text-align: right;\n",
       "    }\n",
       "</style>\n",
       "<table border=\"1\" class=\"dataframe\">\n",
       "  <thead>\n",
       "    <tr style=\"text-align: right;\">\n",
       "      <th></th>\n",
       "      <th>line</th>\n",
       "      <th>min_profit</th>\n",
       "      <th>max_profit</th>\n",
       "      <th>avg_profit</th>\n",
       "      <th>total_profit</th>\n",
       "      <th>profit_class</th>\n",
       "    </tr>\n",
       "    <tr>\n",
       "      <th>productLine</th>\n",
       "      <th></th>\n",
       "      <th></th>\n",
       "      <th></th>\n",
       "      <th></th>\n",
       "      <th></th>\n",
       "      <th></th>\n",
       "    </tr>\n",
       "  </thead>\n",
       "  <tbody>\n",
       "    <tr>\n",
       "      <th>Classic Cars</th>\n",
       "      <td>Classic Cars</td>\n",
       "      <td>19.45</td>\n",
       "      <td>115.72</td>\n",
       "      <td>54.124167</td>\n",
       "      <td>1948.47</td>\n",
       "      <td>high</td>\n",
       "    </tr>\n",
       "    <tr>\n",
       "      <th>Motorcycles</th>\n",
       "      <td>Motorcycles</td>\n",
       "      <td>16.09</td>\n",
       "      <td>102.64</td>\n",
       "      <td>46.493077</td>\n",
       "      <td>604.41</td>\n",
       "      <td>high</td>\n",
       "    </tr>\n",
       "    <tr>\n",
       "      <th>Planes</th>\n",
       "      <td>Planes</td>\n",
       "      <td>16.89</td>\n",
       "      <td>80.42</td>\n",
       "      <td>39.886667</td>\n",
       "      <td>478.64</td>\n",
       "      <td>mid</td>\n",
       "    </tr>\n",
       "    <tr>\n",
       "      <th>Ships</th>\n",
       "      <td>Ships</td>\n",
       "      <td>21.30</td>\n",
       "      <td>50.69</td>\n",
       "      <td>39.711250</td>\n",
       "      <td>317.69</td>\n",
       "      <td>mid</td>\n",
       "    </tr>\n",
       "    <tr>\n",
       "      <th>Trains</th>\n",
       "      <td>Trains</td>\n",
       "      <td>21.09</td>\n",
       "      <td>35.42</td>\n",
       "      <td>29.930000</td>\n",
       "      <td>89.79</td>\n",
       "      <td>low</td>\n",
       "    </tr>\n",
       "    <tr>\n",
       "      <th>Trucks and Buses</th>\n",
       "      <td>Trucks and Buses</td>\n",
       "      <td>28.13</td>\n",
       "      <td>66.45</td>\n",
       "      <td>45.260000</td>\n",
       "      <td>452.60</td>\n",
       "      <td>high</td>\n",
       "    </tr>\n",
       "    <tr>\n",
       "      <th>Vintage Cars</th>\n",
       "      <td>Vintage Cars</td>\n",
       "      <td>10.62</td>\n",
       "      <td>96.19</td>\n",
       "      <td>41.029583</td>\n",
       "      <td>984.71</td>\n",
       "      <td>mid</td>\n",
       "    </tr>\n",
       "  </tbody>\n",
       "</table>\n",
       "</div>"
      ],
      "text/plain": [
       "                              line  min_profit  max_profit  avg_profit  \\\n",
       "productLine                                                              \n",
       "Classic Cars          Classic Cars       19.45      115.72   54.124167   \n",
       "Motorcycles            Motorcycles       16.09      102.64   46.493077   \n",
       "Planes                      Planes       16.89       80.42   39.886667   \n",
       "Ships                        Ships       21.30       50.69   39.711250   \n",
       "Trains                      Trains       21.09       35.42   29.930000   \n",
       "Trucks and Buses  Trucks and Buses       28.13       66.45   45.260000   \n",
       "Vintage Cars          Vintage Cars       10.62       96.19   41.029583   \n",
       "\n",
       "                  total_profit profit_class  \n",
       "productLine                                  \n",
       "Classic Cars           1948.47         high  \n",
       "Motorcycles             604.41         high  \n",
       "Planes                  478.64          mid  \n",
       "Ships                   317.69          mid  \n",
       "Trains                   89.79          low  \n",
       "Trucks and Buses        452.60         high  \n",
       "Vintage Cars            984.71          mid  "
      ]
     },
     "execution_count": 16,
     "metadata": {},
     "output_type": "execute_result"
    }
   ],
   "source": [
    "pl_profits.insert(0,\"line\",pl_profits.index )\n",
    "\n",
    "pl_profits"
   ]
  },
  {
   "cell_type": "markdown",
   "id": "dc8a6686",
   "metadata": {
    "papermill": {
     "duration": 0.014382,
     "end_time": "2023-04-07T12:22:42.115379",
     "exception": false,
     "start_time": "2023-04-07T12:22:42.100997",
     "status": "completed"
    },
    "tags": []
   },
   "source": [
    "I was having a little trouble referencing the index with my catplot so I just duplicated the index and made it into a new column for ease of reference. "
   ]
  },
  {
   "cell_type": "code",
   "execution_count": 17,
   "id": "cba44343",
   "metadata": {
    "execution": {
     "iopub.execute_input": "2023-04-07T12:22:42.146382Z",
     "iopub.status.busy": "2023-04-07T12:22:42.145957Z",
     "iopub.status.idle": "2023-04-07T12:22:42.589372Z",
     "shell.execute_reply": "2023-04-07T12:22:42.588147Z"
    },
    "papermill": {
     "duration": 0.461862,
     "end_time": "2023-04-07T12:22:42.591961",
     "exception": false,
     "start_time": "2023-04-07T12:22:42.130099",
     "status": "completed"
    },
    "tags": []
   },
   "outputs": [
    {
     "data": {
      "text/plain": [
       "<seaborn.axisgrid.FacetGrid at 0x7c74f5af4910>"
      ]
     },
     "execution_count": 17,
     "metadata": {},
     "output_type": "execute_result"
    },
    {
     "data": {
      "image/png": "[encoded data removed]",
      "text/plain": [
       "<Figure size 424.5x360 with 1 Axes>"
      ]
     },
     "metadata": {
      "needs_background": "light"
     },
     "output_type": "display_data"
    }
   ],
   "source": [
    "\n",
    "sns.catplot(data=pl_profits.sort_values(\"avg_profit\", ascending =False),\n",
    "            x= \"avg_profit\" , y = \"line\", kind = 'bar', hue=\"profit_class\", dodge = False\n",
    "           )"
   ]
  },
  {
   "cell_type": "code",
   "execution_count": 18,
   "id": "84b37d8f",
   "metadata": {
    "execution": {
     "iopub.execute_input": "2023-04-07T12:22:42.624875Z",
     "iopub.status.busy": "2023-04-07T12:22:42.623893Z",
     "iopub.status.idle": "2023-04-07T12:22:42.640791Z",
     "shell.execute_reply": "2023-04-07T12:22:42.639680Z"
    },
    "papermill": {
     "duration": 0.035792,
     "end_time": "2023-04-07T12:22:42.643209",
     "exception": false,
     "start_time": "2023-04-07T12:22:42.607417",
     "status": "completed"
    },
    "tags": []
   },
   "outputs": [
    {
     "data": {
      "text/html": [
       "<div>\n",
       "<style scoped>\n",
       "    .dataframe tbody tr th:only-of-type {\n",
       "        vertical-align: middle;\n",
       "    }\n",
       "\n",
       "    .dataframe tbody tr th {\n",
       "        vertical-align: top;\n",
       "    }\n",
       "\n",
       "    .dataframe thead th {\n",
       "        text-align: right;\n",
       "    }\n",
       "</style>\n",
       "<table border=\"1\" class=\"dataframe\">\n",
       "  <thead>\n",
       "    <tr style=\"text-align: right;\">\n",
       "      <th></th>\n",
       "      <th>orderNumber</th>\n",
       "      <th>productCode</th>\n",
       "      <th>quantityOrdered</th>\n",
       "      <th>priceEach</th>\n",
       "      <th>orderLineNumber</th>\n",
       "    </tr>\n",
       "  </thead>\n",
       "  <tbody>\n",
       "    <tr>\n",
       "      <th>0</th>\n",
       "      <td>10100</td>\n",
       "      <td>S18_1749</td>\n",
       "      <td>30</td>\n",
       "      <td>136.00</td>\n",
       "      <td>3</td>\n",
       "    </tr>\n",
       "    <tr>\n",
       "      <th>1</th>\n",
       "      <td>10100</td>\n",
       "      <td>S18_2248</td>\n",
       "      <td>50</td>\n",
       "      <td>55.09</td>\n",
       "      <td>2</td>\n",
       "    </tr>\n",
       "    <tr>\n",
       "      <th>2</th>\n",
       "      <td>10100</td>\n",
       "      <td>S18_4409</td>\n",
       "      <td>22</td>\n",
       "      <td>75.46</td>\n",
       "      <td>4</td>\n",
       "    </tr>\n",
       "    <tr>\n",
       "      <th>3</th>\n",
       "      <td>10100</td>\n",
       "      <td>S24_3969</td>\n",
       "      <td>49</td>\n",
       "      <td>35.29</td>\n",
       "      <td>1</td>\n",
       "    </tr>\n",
       "    <tr>\n",
       "      <th>4</th>\n",
       "      <td>10101</td>\n",
       "      <td>S18_2325</td>\n",
       "      <td>25</td>\n",
       "      <td>108.06</td>\n",
       "      <td>4</td>\n",
       "    </tr>\n",
       "    <tr>\n",
       "      <th>...</th>\n",
       "      <td>...</td>\n",
       "      <td>...</td>\n",
       "      <td>...</td>\n",
       "      <td>...</td>\n",
       "      <td>...</td>\n",
       "    </tr>\n",
       "    <tr>\n",
       "      <th>2991</th>\n",
       "      <td>10425</td>\n",
       "      <td>S24_2300</td>\n",
       "      <td>49</td>\n",
       "      <td>127.79</td>\n",
       "      <td>9</td>\n",
       "    </tr>\n",
       "    <tr>\n",
       "      <th>2992</th>\n",
       "      <td>10425</td>\n",
       "      <td>S24_2840</td>\n",
       "      <td>31</td>\n",
       "      <td>31.82</td>\n",
       "      <td>5</td>\n",
       "    </tr>\n",
       "    <tr>\n",
       "      <th>2993</th>\n",
       "      <td>10425</td>\n",
       "      <td>S32_1268</td>\n",
       "      <td>41</td>\n",
       "      <td>83.79</td>\n",
       "      <td>11</td>\n",
       "    </tr>\n",
       "    <tr>\n",
       "      <th>2994</th>\n",
       "      <td>10425</td>\n",
       "      <td>S32_2509</td>\n",
       "      <td>11</td>\n",
       "      <td>50.32</td>\n",
       "      <td>6</td>\n",
       "    </tr>\n",
       "    <tr>\n",
       "      <th>2995</th>\n",
       "      <td>10425</td>\n",
       "      <td>S50_1392</td>\n",
       "      <td>18</td>\n",
       "      <td>94.92</td>\n",
       "      <td>2</td>\n",
       "    </tr>\n",
       "  </tbody>\n",
       "</table>\n",
       "<p>2996 rows × 5 columns</p>\n",
       "</div>"
      ],
      "text/plain": [
       "      orderNumber productCode  quantityOrdered  priceEach  orderLineNumber\n",
       "0           10100    S18_1749               30     136.00                3\n",
       "1           10100    S18_2248               50      55.09                2\n",
       "2           10100    S18_4409               22      75.46                4\n",
       "3           10100    S24_3969               49      35.29                1\n",
       "4           10101    S18_2325               25     108.06                4\n",
       "...           ...         ...              ...        ...              ...\n",
       "2991        10425    S24_2300               49     127.79                9\n",
       "2992        10425    S24_2840               31      31.82                5\n",
       "2993        10425    S32_1268               41      83.79               11\n",
       "2994        10425    S32_2509               11      50.32                6\n",
       "2995        10425    S50_1392               18      94.92                2\n",
       "\n",
       "[2996 rows x 5 columns]"
      ]
     },
     "execution_count": 18,
     "metadata": {},
     "output_type": "execute_result"
    }
   ],
   "source": [
    "orderdetails"
   ]
  },
  {
   "cell_type": "code",
   "execution_count": 19,
   "id": "f85b120b",
   "metadata": {
    "execution": {
     "iopub.execute_input": "2023-04-07T12:22:42.676738Z",
     "iopub.status.busy": "2023-04-07T12:22:42.676332Z",
     "iopub.status.idle": "2023-04-07T12:22:42.687756Z",
     "shell.execute_reply": "2023-04-07T12:22:42.686592Z"
    },
    "papermill": {
     "duration": 0.031043,
     "end_time": "2023-04-07T12:22:42.690525",
     "exception": false,
     "start_time": "2023-04-07T12:22:42.659482",
     "status": "completed"
    },
    "tags": []
   },
   "outputs": [
    {
     "data": {
      "text/plain": [
       "productCode\n",
       "S18_3232    53\n",
       "S10_1678    28\n",
       "S32_1268    28\n",
       "S18_2957    28\n",
       "S18_3136    28\n",
       "S50_1392    28\n",
       "S50_1341    28\n",
       "S18_3320    28\n",
       "S32_4289    28\n",
       "S32_3522    28\n",
       "dtype: int64"
      ]
     },
     "execution_count": 19,
     "metadata": {},
     "output_type": "execute_result"
    }
   ],
   "source": [
    "top_ordered_products = orderdetails.value_counts(\"productCode\").head(10)\n",
    "\n",
    "top_ordered_products\n"
   ]
  },
  {
   "cell_type": "code",
   "execution_count": 20,
   "id": "04c1cf93",
   "metadata": {
    "execution": {
     "iopub.execute_input": "2023-04-07T12:22:42.723512Z",
     "iopub.status.busy": "2023-04-07T12:22:42.723116Z",
     "iopub.status.idle": "2023-04-07T12:22:42.746294Z",
     "shell.execute_reply": "2023-04-07T12:22:42.745120Z"
    },
    "papermill": {
     "duration": 0.04255,
     "end_time": "2023-04-07T12:22:42.748803",
     "exception": false,
     "start_time": "2023-04-07T12:22:42.706253",
     "status": "completed"
    },
    "tags": []
   },
   "outputs": [
    {
     "data": {
      "text/html": [
       "<div>\n",
       "<style scoped>\n",
       "    .dataframe tbody tr th:only-of-type {\n",
       "        vertical-align: middle;\n",
       "    }\n",
       "\n",
       "    .dataframe tbody tr th {\n",
       "        vertical-align: top;\n",
       "    }\n",
       "\n",
       "    .dataframe thead th {\n",
       "        text-align: right;\n",
       "    }\n",
       "</style>\n",
       "<table border=\"1\" class=\"dataframe\">\n",
       "  <thead>\n",
       "    <tr style=\"text-align: right;\">\n",
       "      <th></th>\n",
       "      <th>productName</th>\n",
       "      <th>productLine</th>\n",
       "      <th>productScale</th>\n",
       "      <th>productVendor</th>\n",
       "      <th>productDescription</th>\n",
       "      <th>quantityInStock</th>\n",
       "      <th>buyPrice</th>\n",
       "      <th>MSRP</th>\n",
       "      <th>profit</th>\n",
       "    </tr>\n",
       "    <tr>\n",
       "      <th>productCode</th>\n",
       "      <th></th>\n",
       "      <th></th>\n",
       "      <th></th>\n",
       "      <th></th>\n",
       "      <th></th>\n",
       "      <th></th>\n",
       "      <th></th>\n",
       "      <th></th>\n",
       "      <th></th>\n",
       "    </tr>\n",
       "  </thead>\n",
       "  <tbody>\n",
       "    <tr>\n",
       "      <th>S10_1678</th>\n",
       "      <td>1969 Harley Davidson Ultimate Chopper</td>\n",
       "      <td>Motorcycles</td>\n",
       "      <td>1:10</td>\n",
       "      <td>Min Lin Diecast</td>\n",
       "      <td>This replica features working kickstand, front...</td>\n",
       "      <td>7933</td>\n",
       "      <td>48.81</td>\n",
       "      <td>95.70</td>\n",
       "      <td>46.89</td>\n",
       "    </tr>\n",
       "    <tr>\n",
       "      <th>S10_1949</th>\n",
       "      <td>1952 Alpine Renault 1300</td>\n",
       "      <td>Classic Cars</td>\n",
       "      <td>1:10</td>\n",
       "      <td>Classic Metal Creations</td>\n",
       "      <td>Turnable front wheels; steering function; deta...</td>\n",
       "      <td>7305</td>\n",
       "      <td>98.58</td>\n",
       "      <td>214.30</td>\n",
       "      <td>115.72</td>\n",
       "    </tr>\n",
       "    <tr>\n",
       "      <th>S10_2016</th>\n",
       "      <td>1996 Moto Guzzi 1100i</td>\n",
       "      <td>Motorcycles</td>\n",
       "      <td>1:10</td>\n",
       "      <td>Highway 66 Mini Classics</td>\n",
       "      <td>Official Moto Guzzi logos and insignias, saddl...</td>\n",
       "      <td>6625</td>\n",
       "      <td>68.99</td>\n",
       "      <td>118.94</td>\n",
       "      <td>49.95</td>\n",
       "    </tr>\n",
       "    <tr>\n",
       "      <th>S10_4698</th>\n",
       "      <td>2003 Harley-Davidson Eagle Drag Bike</td>\n",
       "      <td>Motorcycles</td>\n",
       "      <td>1:10</td>\n",
       "      <td>Red Start Diecast</td>\n",
       "      <td>Model features, official Harley Davidson logos...</td>\n",
       "      <td>5582</td>\n",
       "      <td>91.02</td>\n",
       "      <td>193.66</td>\n",
       "      <td>102.64</td>\n",
       "    </tr>\n",
       "    <tr>\n",
       "      <th>S10_4757</th>\n",
       "      <td>1972 Alfa Romeo GTA</td>\n",
       "      <td>Classic Cars</td>\n",
       "      <td>1:10</td>\n",
       "      <td>Motor City Art Classics</td>\n",
       "      <td>Features include: Turnable front wheels; steer...</td>\n",
       "      <td>3252</td>\n",
       "      <td>85.68</td>\n",
       "      <td>136.00</td>\n",
       "      <td>50.32</td>\n",
       "    </tr>\n",
       "    <tr>\n",
       "      <th>...</th>\n",
       "      <td>...</td>\n",
       "      <td>...</td>\n",
       "      <td>...</td>\n",
       "      <td>...</td>\n",
       "      <td>...</td>\n",
       "      <td>...</td>\n",
       "      <td>...</td>\n",
       "      <td>...</td>\n",
       "      <td>...</td>\n",
       "    </tr>\n",
       "    <tr>\n",
       "      <th>S700_3505</th>\n",
       "      <td>The Titanic</td>\n",
       "      <td>Ships</td>\n",
       "      <td>1:700</td>\n",
       "      <td>Carousel DieCast Legends</td>\n",
       "      <td>Completed model measures 19 1/2 inches long, 9...</td>\n",
       "      <td>1956</td>\n",
       "      <td>51.09</td>\n",
       "      <td>100.17</td>\n",
       "      <td>49.08</td>\n",
       "    </tr>\n",
       "    <tr>\n",
       "      <th>S700_3962</th>\n",
       "      <td>The Queen Mary</td>\n",
       "      <td>Ships</td>\n",
       "      <td>1:700</td>\n",
       "      <td>Welly Diecast Productions</td>\n",
       "      <td>Exact replica. Wood and Metal. Many extras inc...</td>\n",
       "      <td>5088</td>\n",
       "      <td>53.63</td>\n",
       "      <td>99.31</td>\n",
       "      <td>45.68</td>\n",
       "    </tr>\n",
       "    <tr>\n",
       "      <th>S700_4002</th>\n",
       "      <td>American Airlines: MD-11S</td>\n",
       "      <td>Planes</td>\n",
       "      <td>1:700</td>\n",
       "      <td>Second Gear Diecast</td>\n",
       "      <td>Polished finish. Exact replia with official lo...</td>\n",
       "      <td>8820</td>\n",
       "      <td>36.27</td>\n",
       "      <td>74.03</td>\n",
       "      <td>37.76</td>\n",
       "    </tr>\n",
       "    <tr>\n",
       "      <th>S72_1253</th>\n",
       "      <td>Boeing X-32A JSF</td>\n",
       "      <td>Planes</td>\n",
       "      <td>1:72</td>\n",
       "      <td>Motor City Art Classics</td>\n",
       "      <td>10 Wingspan with retractable landing gears.Com...</td>\n",
       "      <td>4857</td>\n",
       "      <td>32.77</td>\n",
       "      <td>49.66</td>\n",
       "      <td>16.89</td>\n",
       "    </tr>\n",
       "    <tr>\n",
       "      <th>S72_3212</th>\n",
       "      <td>Pont Yacht</td>\n",
       "      <td>Ships</td>\n",
       "      <td>1:72</td>\n",
       "      <td>Unimax Art Galleries</td>\n",
       "      <td>Measures 38 inches Long x 33 3/4 inches High. ...</td>\n",
       "      <td>414</td>\n",
       "      <td>33.30</td>\n",
       "      <td>54.60</td>\n",
       "      <td>21.30</td>\n",
       "    </tr>\n",
       "  </tbody>\n",
       "</table>\n",
       "<p>106 rows × 9 columns</p>\n",
       "</div>"
      ],
      "text/plain": [
       "                                       productName   productLine productScale  \\\n",
       "productCode                                                                     \n",
       "S10_1678     1969 Harley Davidson Ultimate Chopper   Motorcycles         1:10   \n",
       "S10_1949                  1952 Alpine Renault 1300  Classic Cars         1:10   \n",
       "S10_2016                     1996 Moto Guzzi 1100i   Motorcycles         1:10   \n",
       "S10_4698      2003 Harley-Davidson Eagle Drag Bike   Motorcycles         1:10   \n",
       "S10_4757                       1972 Alfa Romeo GTA  Classic Cars         1:10   \n",
       "...                                            ...           ...          ...   \n",
       "S700_3505                              The Titanic         Ships        1:700   \n",
       "S700_3962                           The Queen Mary         Ships        1:700   \n",
       "S700_4002                American Airlines: MD-11S        Planes        1:700   \n",
       "S72_1253                          Boeing X-32A JSF        Planes         1:72   \n",
       "S72_3212                                Pont Yacht         Ships         1:72   \n",
       "\n",
       "                         productVendor  \\\n",
       "productCode                              \n",
       "S10_1678               Min Lin Diecast   \n",
       "S10_1949       Classic Metal Creations   \n",
       "S10_2016      Highway 66 Mini Classics   \n",
       "S10_4698             Red Start Diecast   \n",
       "S10_4757       Motor City Art Classics   \n",
       "...                                ...   \n",
       "S700_3505     Carousel DieCast Legends   \n",
       "S700_3962    Welly Diecast Productions   \n",
       "S700_4002          Second Gear Diecast   \n",
       "S72_1253       Motor City Art Classics   \n",
       "S72_3212          Unimax Art Galleries   \n",
       "\n",
       "                                            productDescription  \\\n",
       "productCode                                                      \n",
       "S10_1678     This replica features working kickstand, front...   \n",
       "S10_1949     Turnable front wheels; steering function; deta...   \n",
       "S10_2016     Official Moto Guzzi logos and insignias, saddl...   \n",
       "S10_4698     Model features, official Harley Davidson logos...   \n",
       "S10_4757     Features include: Turnable front wheels; steer...   \n",
       "...                                                        ...   \n",
       "S700_3505    Completed model measures 19 1/2 inches long, 9...   \n",
       "S700_3962    Exact replica. Wood and Metal. Many extras inc...   \n",
       "S700_4002    Polished finish. Exact replia with official lo...   \n",
       "S72_1253     10 Wingspan with retractable landing gears.Com...   \n",
       "S72_3212     Measures 38 inches Long x 33 3/4 inches High. ...   \n",
       "\n",
       "             quantityInStock  buyPrice    MSRP  profit  \n",
       "productCode                                             \n",
       "S10_1678                7933     48.81   95.70   46.89  \n",
       "S10_1949                7305     98.58  214.30  115.72  \n",
       "S10_2016                6625     68.99  118.94   49.95  \n",
       "S10_4698                5582     91.02  193.66  102.64  \n",
       "S10_4757                3252     85.68  136.00   50.32  \n",
       "...                      ...       ...     ...     ...  \n",
       "S700_3505               1956     51.09  100.17   49.08  \n",
       "S700_3962               5088     53.63   99.31   45.68  \n",
       "S700_4002               8820     36.27   74.03   37.76  \n",
       "S72_1253                4857     32.77   49.66   16.89  \n",
       "S72_3212                 414     33.30   54.60   21.30  \n",
       "\n",
       "[106 rows x 9 columns]"
      ]
     },
     "execution_count": 20,
     "metadata": {},
     "output_type": "execute_result"
    }
   ],
   "source": [
    "products.set_index('productCode', inplace = True)\n",
    "products"
   ]
  },
  {
   "cell_type": "markdown",
   "id": "6c5ccec8",
   "metadata": {
    "papermill": {
     "duration": 0.017229,
     "end_time": "2023-04-07T12:22:42.782148",
     "exception": false,
     "start_time": "2023-04-07T12:22:42.764919",
     "status": "completed"
    },
    "tags": []
   },
   "source": [
    "Diverging a bit here and decided to see what the top ordered product codes were. I reset the index on my products table so that I can use the .loc to match the overlapping values. "
   ]
  },
  {
   "cell_type": "code",
   "execution_count": 21,
   "id": "bbf9aa27",
   "metadata": {
    "execution": {
     "iopub.execute_input": "2023-04-07T12:22:42.817415Z",
     "iopub.status.busy": "2023-04-07T12:22:42.816184Z",
     "iopub.status.idle": "2023-04-07T12:22:42.836882Z",
     "shell.execute_reply": "2023-04-07T12:22:42.835671Z"
    },
    "papermill": {
     "duration": 0.040702,
     "end_time": "2023-04-07T12:22:42.839439",
     "exception": false,
     "start_time": "2023-04-07T12:22:42.798737",
     "status": "completed"
    },
    "tags": []
   },
   "outputs": [
    {
     "data": {
      "text/html": [
       "<div>\n",
       "<style scoped>\n",
       "    .dataframe tbody tr th:only-of-type {\n",
       "        vertical-align: middle;\n",
       "    }\n",
       "\n",
       "    .dataframe tbody tr th {\n",
       "        vertical-align: top;\n",
       "    }\n",
       "\n",
       "    .dataframe thead th {\n",
       "        text-align: right;\n",
       "    }\n",
       "</style>\n",
       "<table border=\"1\" class=\"dataframe\">\n",
       "  <thead>\n",
       "    <tr style=\"text-align: right;\">\n",
       "      <th></th>\n",
       "      <th>productName</th>\n",
       "      <th>productLine</th>\n",
       "      <th>productScale</th>\n",
       "      <th>productVendor</th>\n",
       "      <th>productDescription</th>\n",
       "      <th>quantityInStock</th>\n",
       "      <th>buyPrice</th>\n",
       "      <th>MSRP</th>\n",
       "      <th>profit</th>\n",
       "    </tr>\n",
       "    <tr>\n",
       "      <th>productCode</th>\n",
       "      <th></th>\n",
       "      <th></th>\n",
       "      <th></th>\n",
       "      <th></th>\n",
       "      <th></th>\n",
       "      <th></th>\n",
       "      <th></th>\n",
       "      <th></th>\n",
       "      <th></th>\n",
       "    </tr>\n",
       "  </thead>\n",
       "  <tbody>\n",
       "    <tr>\n",
       "      <th>S18_3232</th>\n",
       "      <td>1992 Ferrari 360 Spider red</td>\n",
       "      <td>Classic Cars</td>\n",
       "      <td>1:18</td>\n",
       "      <td>Unimax Art Galleries</td>\n",
       "      <td>his replica features opening doors, superb det...</td>\n",
       "      <td>8347</td>\n",
       "      <td>77.90</td>\n",
       "      <td>169.34</td>\n",
       "      <td>91.44</td>\n",
       "    </tr>\n",
       "    <tr>\n",
       "      <th>S10_1678</th>\n",
       "      <td>1969 Harley Davidson Ultimate Chopper</td>\n",
       "      <td>Motorcycles</td>\n",
       "      <td>1:10</td>\n",
       "      <td>Min Lin Diecast</td>\n",
       "      <td>This replica features working kickstand, front...</td>\n",
       "      <td>7933</td>\n",
       "      <td>48.81</td>\n",
       "      <td>95.70</td>\n",
       "      <td>46.89</td>\n",
       "    </tr>\n",
       "    <tr>\n",
       "      <th>S32_1268</th>\n",
       "      <td>1980’s GM Manhattan Express</td>\n",
       "      <td>Trucks and Buses</td>\n",
       "      <td>1:32</td>\n",
       "      <td>Motor City Art Classics</td>\n",
       "      <td>This 1980’s era new look Manhattan express is ...</td>\n",
       "      <td>5099</td>\n",
       "      <td>53.93</td>\n",
       "      <td>96.31</td>\n",
       "      <td>42.38</td>\n",
       "    </tr>\n",
       "    <tr>\n",
       "      <th>S18_2957</th>\n",
       "      <td>1934 Ford V8 Coupe</td>\n",
       "      <td>Vintage Cars</td>\n",
       "      <td>1:18</td>\n",
       "      <td>Min Lin Diecast</td>\n",
       "      <td>Chrome Trim, Chrome Grille, Opening Hood, Open...</td>\n",
       "      <td>5649</td>\n",
       "      <td>34.35</td>\n",
       "      <td>62.46</td>\n",
       "      <td>28.11</td>\n",
       "    </tr>\n",
       "    <tr>\n",
       "      <th>S18_3136</th>\n",
       "      <td>18th Century Vintage Horse Carriage</td>\n",
       "      <td>Vintage Cars</td>\n",
       "      <td>1:18</td>\n",
       "      <td>Red Start Diecast</td>\n",
       "      <td>Hand crafted diecast-like metal horse carriage...</td>\n",
       "      <td>5992</td>\n",
       "      <td>60.74</td>\n",
       "      <td>104.72</td>\n",
       "      <td>43.98</td>\n",
       "    </tr>\n",
       "    <tr>\n",
       "      <th>S50_1392</th>\n",
       "      <td>Diamond T620 Semi-Skirted Tanker</td>\n",
       "      <td>Trucks and Buses</td>\n",
       "      <td>1:50</td>\n",
       "      <td>Highway 66 Mini Classics</td>\n",
       "      <td>This limited edition model is licensed and per...</td>\n",
       "      <td>1016</td>\n",
       "      <td>68.29</td>\n",
       "      <td>115.75</td>\n",
       "      <td>47.46</td>\n",
       "    </tr>\n",
       "    <tr>\n",
       "      <th>S50_1341</th>\n",
       "      <td>1930 Buick Marquette Phaeton</td>\n",
       "      <td>Vintage Cars</td>\n",
       "      <td>1:50</td>\n",
       "      <td>Studio M Art Models</td>\n",
       "      <td>Features opening trunk,  working steering system</td>\n",
       "      <td>7062</td>\n",
       "      <td>27.06</td>\n",
       "      <td>43.64</td>\n",
       "      <td>16.58</td>\n",
       "    </tr>\n",
       "    <tr>\n",
       "      <th>S18_3320</th>\n",
       "      <td>1917 Maxwell Touring Car</td>\n",
       "      <td>Vintage Cars</td>\n",
       "      <td>1:18</td>\n",
       "      <td>Exoto Designs</td>\n",
       "      <td>Features Gold Trim, Full Size Spare Tire, Chro...</td>\n",
       "      <td>7913</td>\n",
       "      <td>57.54</td>\n",
       "      <td>99.21</td>\n",
       "      <td>41.67</td>\n",
       "    </tr>\n",
       "    <tr>\n",
       "      <th>S32_4289</th>\n",
       "      <td>1928 Ford Phaeton Deluxe</td>\n",
       "      <td>Vintage Cars</td>\n",
       "      <td>1:32</td>\n",
       "      <td>Highway 66 Mini Classics</td>\n",
       "      <td>This model features grille-mounted chrome horn...</td>\n",
       "      <td>136</td>\n",
       "      <td>33.02</td>\n",
       "      <td>68.79</td>\n",
       "      <td>35.77</td>\n",
       "    </tr>\n",
       "    <tr>\n",
       "      <th>S32_3522</th>\n",
       "      <td>1996 Peterbilt 379 Stake Bed with Outrigger</td>\n",
       "      <td>Trucks and Buses</td>\n",
       "      <td>1:32</td>\n",
       "      <td>Red Start Diecast</td>\n",
       "      <td>This model features, opening doors, detailed e...</td>\n",
       "      <td>814</td>\n",
       "      <td>33.61</td>\n",
       "      <td>64.64</td>\n",
       "      <td>31.03</td>\n",
       "    </tr>\n",
       "  </tbody>\n",
       "</table>\n",
       "</div>"
      ],
      "text/plain": [
       "                                             productName       productLine  \\\n",
       "productCode                                                                  \n",
       "S18_3232                     1992 Ferrari 360 Spider red      Classic Cars   \n",
       "S10_1678           1969 Harley Davidson Ultimate Chopper       Motorcycles   \n",
       "S32_1268                     1980’s GM Manhattan Express  Trucks and Buses   \n",
       "S18_2957                              1934 Ford V8 Coupe      Vintage Cars   \n",
       "S18_3136             18th Century Vintage Horse Carriage      Vintage Cars   \n",
       "S50_1392                Diamond T620 Semi-Skirted Tanker  Trucks and Buses   \n",
       "S50_1341                    1930 Buick Marquette Phaeton      Vintage Cars   \n",
       "S18_3320                        1917 Maxwell Touring Car      Vintage Cars   \n",
       "S32_4289                        1928 Ford Phaeton Deluxe      Vintage Cars   \n",
       "S32_3522     1996 Peterbilt 379 Stake Bed with Outrigger  Trucks and Buses   \n",
       "\n",
       "            productScale             productVendor  \\\n",
       "productCode                                          \n",
       "S18_3232            1:18      Unimax Art Galleries   \n",
       "S10_1678            1:10           Min Lin Diecast   \n",
       "S32_1268            1:32   Motor City Art Classics   \n",
       "S18_2957            1:18           Min Lin Diecast   \n",
       "S18_3136            1:18         Red Start Diecast   \n",
       "S50_1392            1:50  Highway 66 Mini Classics   \n",
       "S50_1341            1:50       Studio M Art Models   \n",
       "S18_3320            1:18             Exoto Designs   \n",
       "S32_4289            1:32  Highway 66 Mini Classics   \n",
       "S32_3522            1:32         Red Start Diecast   \n",
       "\n",
       "                                            productDescription  \\\n",
       "productCode                                                      \n",
       "S18_3232     his replica features opening doors, superb det...   \n",
       "S10_1678     This replica features working kickstand, front...   \n",
       "S32_1268     This 1980’s era new look Manhattan express is ...   \n",
       "S18_2957     Chrome Trim, Chrome Grille, Opening Hood, Open...   \n",
       "S18_3136     Hand crafted diecast-like metal horse carriage...   \n",
       "S50_1392     This limited edition model is licensed and per...   \n",
       "S50_1341      Features opening trunk,  working steering system   \n",
       "S18_3320     Features Gold Trim, Full Size Spare Tire, Chro...   \n",
       "S32_4289     This model features grille-mounted chrome horn...   \n",
       "S32_3522     This model features, opening doors, detailed e...   \n",
       "\n",
       "             quantityInStock  buyPrice    MSRP  profit  \n",
       "productCode                                             \n",
       "S18_3232                8347     77.90  169.34   91.44  \n",
       "S10_1678                7933     48.81   95.70   46.89  \n",
       "S32_1268                5099     53.93   96.31   42.38  \n",
       "S18_2957                5649     34.35   62.46   28.11  \n",
       "S18_3136                5992     60.74  104.72   43.98  \n",
       "S50_1392                1016     68.29  115.75   47.46  \n",
       "S50_1341                7062     27.06   43.64   16.58  \n",
       "S18_3320                7913     57.54   99.21   41.67  \n",
       "S32_4289                 136     33.02   68.79   35.77  \n",
       "S32_3522                 814     33.61   64.64   31.03  "
      ]
     },
     "execution_count": 21,
     "metadata": {},
     "output_type": "execute_result"
    }
   ],
   "source": [
    "pop_products = products.loc[top_ordered_products.index]\n",
    "pop_products"
   ]
  },
  {
   "cell_type": "markdown",
   "id": "b14fd872",
   "metadata": {
    "papermill": {
     "duration": 0.016552,
     "end_time": "2023-04-07T12:22:42.873527",
     "exception": false,
     "start_time": "2023-04-07T12:22:42.856975",
     "status": "completed"
    },
    "tags": []
   },
   "source": [
    "What I find interesting here is that we only have one instance of \"classic cars\" in the most popular products ordered, despite them being one of the biggest profit drivers. "
   ]
  },
  {
   "cell_type": "markdown",
   "id": "82c7099c",
   "metadata": {
    "papermill": {
     "duration": 0.016223,
     "end_time": "2023-04-07T12:22:42.906496",
     "exception": false,
     "start_time": "2023-04-07T12:22:42.890273",
     "status": "completed"
    },
    "tags": []
   },
   "source": [
    "#### Well this notebook is starting to get a bit lengthy, so I'm going to call it here.  Hope you enjoyed my classicmodels analysis! "
   ]
  },
  {
   "cell_type": "code",
   "execution_count": null,
   "id": "3eaa5a97",
   "metadata": {
    "papermill": {
     "duration": 0.01636,
     "end_time": "2023-04-07T12:22:42.939663",
     "exception": false,
     "start_time": "2023-04-07T12:22:42.923303",
     "status": "completed"
    },
    "tags": []
   },
   "outputs": [],
   "source": []
  },
  {
   "cell_type": "code",
   "execution_count": null,
   "id": "d2879092",
   "metadata": {
    "papermill": {
     "duration": 0.016308,
     "end_time": "2023-04-07T12:22:42.972680",
     "exception": false,
     "start_time": "2023-04-07T12:22:42.956372",
     "status": "completed"
    },
    "tags": []
   },
   "outputs": [],
   "source": []
  }
 ],
 "metadata": {
  "kernelspec": {
   "display_name": "Python 3",
   "language": "python",
   "name": "python3"
  },
  "language_info": {
   "codemirror_mode": {
    "name": "ipython",
    "version": 3
   },
   "file_extension": ".py",
   "mimetype": "text/x-python",
   "name": "python",
   "nbconvert_exporter": "python",
   "pygments_lexer": "ipython3",
   "version": "3.7.12"
  },
  "papermill": {
   "default_parameters": {},
   "duration": 15.069065,
   "end_time": "2023-04-07T12:22:43.711187",
   "environment_variables": {},
   "exception": null,
   "input_path": "__notebook__.ipynb",
   "output_path": "__notebook__.ipynb",
   "parameters": {},
   "start_time": "2023-04-07T12:22:28.642122",
   "version": "2.3.4"
  }
 },
 "nbformat": 4,
 "nbformat_minor": 5
}
